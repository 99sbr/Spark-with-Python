{
 "cells": [
  {
   "cell_type": "markdown",
   "metadata": {},
   "source": [
    "## Spark Data Frames"
   ]
  },
  {
   "cell_type": "code",
   "execution_count": 34,
   "metadata": {
    "ExecuteTime": {
     "end_time": "2020-05-30T09:57:26.254545Z",
     "start_time": "2020-05-30T09:57:26.250923Z"
    }
   },
   "outputs": [],
   "source": [
    "from pyspark.sql import SparkSession"
   ]
  },
  {
   "cell_type": "code",
   "execution_count": 35,
   "metadata": {
    "ExecuteTime": {
     "end_time": "2020-05-30T09:57:26.752671Z",
     "start_time": "2020-05-30T09:57:26.732425Z"
    }
   },
   "outputs": [
    {
     "data": {
      "text/html": [
       "\n",
       "            <div>\n",
       "                <p><b>SparkSession - hive</b></p>\n",
       "                \n",
       "        <div>\n",
       "            <p><b>SparkContext</b></p>\n",
       "\n",
       "            <p><a href=\"http://192.168.0.102:4040\">Spark UI</a></p>\n",
       "\n",
       "            <dl>\n",
       "              <dt>Version</dt>\n",
       "                <dd><code>v2.4.5</code></dd>\n",
       "              <dt>Master</dt>\n",
       "                <dd><code>local[*]</code></dd>\n",
       "              <dt>AppName</dt>\n",
       "                <dd><code>PySparkShell</code></dd>\n",
       "            </dl>\n",
       "        </div>\n",
       "        \n",
       "            </div>\n",
       "        "
      ],
      "text/plain": [
       "<pyspark.sql.session.SparkSession at 0x109dc8d50>"
      ]
     },
     "execution_count": 35,
     "metadata": {},
     "output_type": "execute_result"
    }
   ],
   "source": [
    "spark = SparkSession.builder.getOrCreate()\n",
    "spark"
   ]
  },
  {
   "cell_type": "code",
   "execution_count": 36,
   "metadata": {
    "ExecuteTime": {
     "end_time": "2020-05-30T09:57:27.725504Z",
     "start_time": "2020-05-30T09:57:27.722447Z"
    }
   },
   "outputs": [],
   "source": [
    "data_path = './Ex_Files_Spark_SQL_DataFrames/Exercise Files/Data/'"
   ]
  },
  {
   "cell_type": "code",
   "execution_count": 4,
   "metadata": {
    "ExecuteTime": {
     "end_time": "2020-05-29T15:04:33.271430Z",
     "start_time": "2020-05-29T15:04:28.530122Z"
    }
   },
   "outputs": [],
   "source": [
    "file_path = data_path + '/location_temp.csv'\n",
    "df1 = spark.read.format(\"csv\").option(\"header\",\"true\").load(file_path)"
   ]
  },
  {
   "cell_type": "code",
   "execution_count": 5,
   "metadata": {
    "ExecuteTime": {
     "end_time": "2020-05-29T15:04:36.013968Z",
     "start_time": "2020-05-29T15:04:35.751878Z"
    }
   },
   "outputs": [
    {
     "data": {
      "text/plain": [
       "[Row(event_date='03/04/2019 19:48:06', location_id='loc0', temp_celcius='29'),\n",
       " Row(event_date='03/04/2019 19:53:06', location_id='loc0', temp_celcius='27'),\n",
       " Row(event_date='03/04/2019 19:58:06', location_id='loc0', temp_celcius='28'),\n",
       " Row(event_date='03/04/2019 20:03:06', location_id='loc0', temp_celcius='30'),\n",
       " Row(event_date='03/04/2019 20:08:06', location_id='loc0', temp_celcius='27'),\n",
       " Row(event_date='03/04/2019 20:13:06', location_id='loc0', temp_celcius='27'),\n",
       " Row(event_date='03/04/2019 20:18:06', location_id='loc0', temp_celcius='27'),\n",
       " Row(event_date='03/04/2019 20:23:06', location_id='loc0', temp_celcius='29'),\n",
       " Row(event_date='03/04/2019 20:28:06', location_id='loc0', temp_celcius='32'),\n",
       " Row(event_date='03/04/2019 20:33:06', location_id='loc0', temp_celcius='35')]"
      ]
     },
     "execution_count": 5,
     "metadata": {},
     "output_type": "execute_result"
    }
   ],
   "source": [
    "df1.head(10)"
   ]
  },
  {
   "cell_type": "code",
   "execution_count": 6,
   "metadata": {
    "ExecuteTime": {
     "end_time": "2020-05-29T15:04:37.289785Z",
     "start_time": "2020-05-29T15:04:37.123792Z"
    }
   },
   "outputs": [
    {
     "name": "stdout",
     "output_type": "stream",
     "text": [
      "+-------------------+-----------+------------+\n",
      "|         event_date|location_id|temp_celcius|\n",
      "+-------------------+-----------+------------+\n",
      "|03/04/2019 19:48:06|       loc0|          29|\n",
      "|03/04/2019 19:53:06|       loc0|          27|\n",
      "|03/04/2019 19:58:06|       loc0|          28|\n",
      "|03/04/2019 20:03:06|       loc0|          30|\n",
      "|03/04/2019 20:08:06|       loc0|          27|\n",
      "|03/04/2019 20:13:06|       loc0|          27|\n",
      "|03/04/2019 20:18:06|       loc0|          27|\n",
      "|03/04/2019 20:23:06|       loc0|          29|\n",
      "|03/04/2019 20:28:06|       loc0|          32|\n",
      "|03/04/2019 20:33:06|       loc0|          35|\n",
      "|03/04/2019 20:38:06|       loc0|          32|\n",
      "|03/04/2019 20:43:06|       loc0|          28|\n",
      "|03/04/2019 20:48:06|       loc0|          28|\n",
      "|03/04/2019 20:53:06|       loc0|          32|\n",
      "|03/04/2019 20:58:06|       loc0|          34|\n",
      "|03/04/2019 21:03:06|       loc0|          33|\n",
      "|03/04/2019 21:08:06|       loc0|          27|\n",
      "|03/04/2019 21:13:06|       loc0|          28|\n",
      "|03/04/2019 21:18:06|       loc0|          33|\n",
      "|03/04/2019 21:23:06|       loc0|          28|\n",
      "+-------------------+-----------+------------+\n",
      "only showing top 20 rows\n",
      "\n"
     ]
    }
   ],
   "source": [
    "df1.show()"
   ]
  },
  {
   "cell_type": "code",
   "execution_count": 7,
   "metadata": {
    "ExecuteTime": {
     "end_time": "2020-05-29T15:04:42.158874Z",
     "start_time": "2020-05-29T15:04:41.347366Z"
    }
   },
   "outputs": [
    {
     "data": {
      "text/plain": [
       "500000"
      ]
     },
     "execution_count": 7,
     "metadata": {},
     "output_type": "execute_result"
    }
   ],
   "source": [
    "df1.count()"
   ]
  },
  {
   "cell_type": "code",
   "execution_count": 8,
   "metadata": {
    "ExecuteTime": {
     "end_time": "2020-05-29T15:06:16.445619Z",
     "start_time": "2020-05-29T15:06:14.580354Z"
    }
   },
   "outputs": [],
   "source": [
    "file_path_no_header = data_path + '/utilization.csv'\n",
    "df2 = spark.read.format(\"csv\").option(\"header\",\"false\").option(\"inferSchema\",\"true\").load(file_path_no_header)"
   ]
  },
  {
   "cell_type": "code",
   "execution_count": 9,
   "metadata": {
    "ExecuteTime": {
     "end_time": "2020-05-29T15:06:21.961048Z",
     "start_time": "2020-05-29T15:06:21.814604Z"
    }
   },
   "outputs": [
    {
     "data": {
      "text/plain": [
       "[Row(_c0='03/05/2019 08:06:14', _c1=100, _c2=0.57, _c3=0.51, _c4=47),\n",
       " Row(_c0='03/05/2019 08:11:14', _c1=100, _c2=0.47, _c3=0.62, _c4=43),\n",
       " Row(_c0='03/05/2019 08:16:14', _c1=100, _c2=0.56, _c3=0.57, _c4=62),\n",
       " Row(_c0='03/05/2019 08:21:14', _c1=100, _c2=0.57, _c3=0.56, _c4=50),\n",
       " Row(_c0='03/05/2019 08:26:14', _c1=100, _c2=0.35, _c3=0.46, _c4=43),\n",
       " Row(_c0='03/05/2019 08:31:14', _c1=100, _c2=0.41, _c3=0.58, _c4=48),\n",
       " Row(_c0='03/05/2019 08:36:14', _c1=100, _c2=0.57, _c3=0.35, _c4=58),\n",
       " Row(_c0='03/05/2019 08:41:14', _c1=100, _c2=0.41, _c3=0.4, _c4=58),\n",
       " Row(_c0='03/05/2019 08:46:14', _c1=100, _c2=0.53, _c3=0.35, _c4=62),\n",
       " Row(_c0='03/05/2019 08:51:14', _c1=100, _c2=0.51, _c3=0.6, _c4=45)]"
      ]
     },
     "execution_count": 9,
     "metadata": {},
     "output_type": "execute_result"
    }
   ],
   "source": [
    "df2.head(10)"
   ]
  },
  {
   "cell_type": "code",
   "execution_count": 10,
   "metadata": {
    "ExecuteTime": {
     "end_time": "2020-05-29T15:06:29.862009Z",
     "start_time": "2020-05-29T15:06:29.652551Z"
    }
   },
   "outputs": [
    {
     "name": "stdout",
     "output_type": "stream",
     "text": [
      "+-------------------+---+----+----+---+\n",
      "|                _c0|_c1| _c2| _c3|_c4|\n",
      "+-------------------+---+----+----+---+\n",
      "|03/05/2019 08:06:14|100|0.57|0.51| 47|\n",
      "|03/05/2019 08:11:14|100|0.47|0.62| 43|\n",
      "|03/05/2019 08:16:14|100|0.56|0.57| 62|\n",
      "|03/05/2019 08:21:14|100|0.57|0.56| 50|\n",
      "|03/05/2019 08:26:14|100|0.35|0.46| 43|\n",
      "|03/05/2019 08:31:14|100|0.41|0.58| 48|\n",
      "|03/05/2019 08:36:14|100|0.57|0.35| 58|\n",
      "|03/05/2019 08:41:14|100|0.41| 0.4| 58|\n",
      "|03/05/2019 08:46:14|100|0.53|0.35| 62|\n",
      "|03/05/2019 08:51:14|100|0.51| 0.6| 45|\n",
      "|03/05/2019 08:56:14|100|0.32|0.37| 47|\n",
      "|03/05/2019 09:01:14|100|0.62|0.59| 60|\n",
      "|03/05/2019 09:06:14|100|0.66|0.72| 57|\n",
      "|03/05/2019 09:11:14|100|0.54|0.54| 44|\n",
      "|03/05/2019 09:16:14|100|0.29| 0.4| 47|\n",
      "|03/05/2019 09:21:14|100|0.43|0.68| 66|\n",
      "|03/05/2019 09:26:14|100|0.49|0.66| 65|\n",
      "|03/05/2019 09:31:14|100|0.64|0.55| 66|\n",
      "|03/05/2019 09:36:14|100|0.42| 0.6| 42|\n",
      "|03/05/2019 09:41:14|100|0.55|0.59| 63|\n",
      "+-------------------+---+----+----+---+\n",
      "only showing top 20 rows\n",
      "\n"
     ]
    }
   ],
   "source": [
    "df2.show()"
   ]
  },
  {
   "cell_type": "code",
   "execution_count": 11,
   "metadata": {
    "ExecuteTime": {
     "end_time": "2020-05-29T15:06:37.416661Z",
     "start_time": "2020-05-29T15:06:37.089106Z"
    }
   },
   "outputs": [
    {
     "data": {
      "text/plain": [
       "500000"
      ]
     },
     "execution_count": 11,
     "metadata": {},
     "output_type": "execute_result"
    }
   ],
   "source": [
    "df2.count()"
   ]
  },
  {
   "cell_type": "code",
   "execution_count": 18,
   "metadata": {
    "ExecuteTime": {
     "end_time": "2020-05-29T15:10:43.057781Z",
     "start_time": "2020-05-29T15:10:43.031375Z"
    }
   },
   "outputs": [],
   "source": [
    "df2 = df2.withColumnRenamed(\"_c0\", \"event_datetime\").withColumnRenamed(\n",
    "    \"_c1\",\n",
    "    \"server_id\").withColumnRenamed(\"_c2\", \"cpu_utilization\").withColumnRenamed(\n",
    "        \"_c3\", \"free_memory\").withColumnRenamed('_c4', \"session_count\")"
   ]
  },
  {
   "cell_type": "code",
   "execution_count": 19,
   "metadata": {
    "ExecuteTime": {
     "end_time": "2020-05-29T15:10:52.507430Z",
     "start_time": "2020-05-29T15:10:52.354549Z"
    }
   },
   "outputs": [
    {
     "data": {
      "text/plain": [
       "[Row(event_datetime='03/05/2019 08:06:14', server_id=100, cpu_utilization=0.57, free_memory=0.51, session_count=47),\n",
       " Row(event_datetime='03/05/2019 08:11:14', server_id=100, cpu_utilization=0.47, free_memory=0.62, session_count=43),\n",
       " Row(event_datetime='03/05/2019 08:16:14', server_id=100, cpu_utilization=0.56, free_memory=0.57, session_count=62),\n",
       " Row(event_datetime='03/05/2019 08:21:14', server_id=100, cpu_utilization=0.57, free_memory=0.56, session_count=50),\n",
       " Row(event_datetime='03/05/2019 08:26:14', server_id=100, cpu_utilization=0.35, free_memory=0.46, session_count=43),\n",
       " Row(event_datetime='03/05/2019 08:31:14', server_id=100, cpu_utilization=0.41, free_memory=0.58, session_count=48),\n",
       " Row(event_datetime='03/05/2019 08:36:14', server_id=100, cpu_utilization=0.57, free_memory=0.35, session_count=58),\n",
       " Row(event_datetime='03/05/2019 08:41:14', server_id=100, cpu_utilization=0.41, free_memory=0.4, session_count=58),\n",
       " Row(event_datetime='03/05/2019 08:46:14', server_id=100, cpu_utilization=0.53, free_memory=0.35, session_count=62),\n",
       " Row(event_datetime='03/05/2019 08:51:14', server_id=100, cpu_utilization=0.51, free_memory=0.6, session_count=45)]"
      ]
     },
     "execution_count": 19,
     "metadata": {},
     "output_type": "execute_result"
    }
   ],
   "source": [
    "df2.head(10)"
   ]
  },
  {
   "cell_type": "code",
   "execution_count": 20,
   "metadata": {
    "ExecuteTime": {
     "end_time": "2020-05-29T15:11:07.408896Z",
     "start_time": "2020-05-29T15:11:07.245810Z"
    }
   },
   "outputs": [
    {
     "name": "stdout",
     "output_type": "stream",
     "text": [
      "+-------------------+---------+---------------+-----------+-------------+\n",
      "|     event_datetime|server_id|cpu_utilization|free_memory|session_count|\n",
      "+-------------------+---------+---------------+-----------+-------------+\n",
      "|03/05/2019 08:06:14|      100|           0.57|       0.51|           47|\n",
      "|03/05/2019 08:11:14|      100|           0.47|       0.62|           43|\n",
      "|03/05/2019 08:16:14|      100|           0.56|       0.57|           62|\n",
      "|03/05/2019 08:21:14|      100|           0.57|       0.56|           50|\n",
      "|03/05/2019 08:26:14|      100|           0.35|       0.46|           43|\n",
      "|03/05/2019 08:31:14|      100|           0.41|       0.58|           48|\n",
      "|03/05/2019 08:36:14|      100|           0.57|       0.35|           58|\n",
      "|03/05/2019 08:41:14|      100|           0.41|        0.4|           58|\n",
      "|03/05/2019 08:46:14|      100|           0.53|       0.35|           62|\n",
      "|03/05/2019 08:51:14|      100|           0.51|        0.6|           45|\n",
      "|03/05/2019 08:56:14|      100|           0.32|       0.37|           47|\n",
      "|03/05/2019 09:01:14|      100|           0.62|       0.59|           60|\n",
      "|03/05/2019 09:06:14|      100|           0.66|       0.72|           57|\n",
      "|03/05/2019 09:11:14|      100|           0.54|       0.54|           44|\n",
      "|03/05/2019 09:16:14|      100|           0.29|        0.4|           47|\n",
      "|03/05/2019 09:21:14|      100|           0.43|       0.68|           66|\n",
      "|03/05/2019 09:26:14|      100|           0.49|       0.66|           65|\n",
      "|03/05/2019 09:31:14|      100|           0.64|       0.55|           66|\n",
      "|03/05/2019 09:36:14|      100|           0.42|        0.6|           42|\n",
      "|03/05/2019 09:41:14|      100|           0.55|       0.59|           63|\n",
      "+-------------------+---------+---------------+-----------+-------------+\n",
      "only showing top 20 rows\n",
      "\n"
     ]
    }
   ],
   "source": [
    "df2.show()"
   ]
  },
  {
   "cell_type": "code",
   "execution_count": 23,
   "metadata": {
    "ExecuteTime": {
     "end_time": "2020-05-29T18:55:28.989939Z",
     "start_time": "2020-05-29T18:55:28.946361Z"
    }
   },
   "outputs": [
    {
     "data": {
      "text/plain": [
       "['event_datetime',\n",
       " 'server_id',\n",
       " 'cpu_utilization',\n",
       " 'free_memory',\n",
       " 'session_count']"
      ]
     },
     "execution_count": 23,
     "metadata": {},
     "output_type": "execute_result"
    }
   ],
   "source": [
    "df2.columns"
   ]
  },
  {
   "cell_type": "code",
   "execution_count": 24,
   "metadata": {
    "ExecuteTime": {
     "end_time": "2020-05-29T18:56:48.759295Z",
     "start_time": "2020-05-29T18:56:48.724559Z"
    }
   },
   "outputs": [],
   "source": [
    "df2_sample = df2.sample(withReplacement=False, fraction=0.1)"
   ]
  },
  {
   "cell_type": "code",
   "execution_count": 25,
   "metadata": {
    "ExecuteTime": {
     "end_time": "2020-05-29T18:56:58.375421Z",
     "start_time": "2020-05-29T18:56:58.105146Z"
    }
   },
   "outputs": [
    {
     "name": "stdout",
     "output_type": "stream",
     "text": [
      "+-------------------+---------+---------------+-----------+-------------+\n",
      "|     event_datetime|server_id|cpu_utilization|free_memory|session_count|\n",
      "+-------------------+---------+---------------+-----------+-------------+\n",
      "|03/05/2019 09:41:14|      100|           0.55|       0.59|           63|\n",
      "|03/05/2019 09:51:14|      100|           0.61|       0.34|           70|\n",
      "|03/05/2019 10:36:14|      100|           0.62|       0.36|           50|\n",
      "|03/05/2019 11:41:14|      100|            0.6|        0.7|           52|\n",
      "|03/05/2019 12:46:14|      100|           0.49|       0.56|           62|\n",
      "|03/05/2019 12:56:14|      100|           0.48|       0.38|           44|\n",
      "|03/05/2019 15:41:14|      100|           0.34|       0.46|           62|\n",
      "|03/05/2019 15:56:14|      100|           0.63|       0.42|           61|\n",
      "|03/05/2019 16:41:14|      100|           0.56|       0.59|           65|\n",
      "|03/05/2019 17:36:14|      100|           0.45|       0.33|           38|\n",
      "|03/05/2019 17:56:14|      100|           0.33|       0.71|           43|\n",
      "|03/05/2019 19:21:14|      100|           0.53|        0.6|           57|\n",
      "|03/05/2019 21:41:14|      100|           0.53|        0.6|           42|\n",
      "|03/05/2019 21:46:14|      100|           0.52|       0.49|           53|\n",
      "|03/05/2019 23:51:14|      100|           0.46|       0.57|           56|\n",
      "|03/06/2019 02:31:14|      100|            0.3|        0.5|           39|\n",
      "|03/06/2019 03:16:14|      100|           0.64|       0.45|           69|\n",
      "|03/06/2019 04:41:14|      100|           0.32|       0.42|           44|\n",
      "|03/06/2019 04:51:14|      100|           0.29|       0.43|           50|\n",
      "|03/06/2019 05:26:14|      100|           0.43|       0.54|           51|\n",
      "+-------------------+---------+---------------+-----------+-------------+\n",
      "only showing top 20 rows\n",
      "\n"
     ]
    }
   ],
   "source": [
    "df2_sample.show()"
   ]
  },
  {
   "cell_type": "code",
   "execution_count": 27,
   "metadata": {
    "ExecuteTime": {
     "end_time": "2020-05-29T18:57:17.897472Z",
     "start_time": "2020-05-29T18:57:17.263334Z"
    }
   },
   "outputs": [
    {
     "data": {
      "text/plain": [
       "50024"
      ]
     },
     "execution_count": 27,
     "metadata": {},
     "output_type": "execute_result"
    }
   ],
   "source": [
    "df2_sample.count()"
   ]
  },
  {
   "cell_type": "code",
   "execution_count": 28,
   "metadata": {
    "ExecuteTime": {
     "end_time": "2020-05-29T18:57:38.271949Z",
     "start_time": "2020-05-29T18:57:38.178428Z"
    }
   },
   "outputs": [],
   "source": [
    "df2_sort = df2_sample.sort('event_datetime')"
   ]
  },
  {
   "cell_type": "code",
   "execution_count": 30,
   "metadata": {
    "ExecuteTime": {
     "end_time": "2020-05-29T18:57:52.388039Z",
     "start_time": "2020-05-29T18:57:51.770892Z"
    }
   },
   "outputs": [
    {
     "name": "stdout",
     "output_type": "stream",
     "text": [
      "+-------------------+---------+---------------+-----------+-------------+\n",
      "|     event_datetime|server_id|cpu_utilization|free_memory|session_count|\n",
      "+-------------------+---------+---------------+-----------+-------------+\n",
      "|03/05/2019 08:06:17|      102|           0.61|       0.12|           71|\n",
      "|03/05/2019 08:06:26|      107|           0.64|       0.55|           56|\n",
      "|03/05/2019 08:06:40|      115|           0.78|       0.22|           62|\n",
      "|03/05/2019 08:06:48|      120|           0.66|       0.31|           54|\n",
      "|03/05/2019 08:06:51|      122|           0.64|       0.48|           65|\n",
      "|03/05/2019 08:07:06|      130|           0.52|       0.49|           77|\n",
      "|03/05/2019 08:07:44|      149|           0.74|       0.27|           66|\n",
      "|03/05/2019 08:11:21|      104|           0.62|       0.15|           86|\n",
      "|03/05/2019 08:11:24|      106|           0.32|       0.56|           59|\n",
      "|03/05/2019 08:11:56|      125|           0.63|       0.34|           72|\n",
      "|03/05/2019 08:12:01|      128|           0.61|       0.29|           59|\n",
      "|03/05/2019 08:12:29|      142|           0.74|       0.23|           79|\n",
      "|03/05/2019 08:16:48|      120|           0.55|       0.61|           54|\n",
      "|03/05/2019 08:16:58|      126|           0.78|       0.31|           73|\n",
      "|03/05/2019 08:17:21|      138|           0.63|       0.63|           41|\n",
      "|03/05/2019 08:21:24|      106|           0.26|       0.45|           38|\n",
      "|03/05/2019 08:21:38|      114|           0.62|       0.57|           74|\n",
      "|03/05/2019 08:22:12|      133|            0.6|       0.14|           86|\n",
      "|03/05/2019 08:22:19|      137|            0.7|       0.18|           89|\n",
      "|03/05/2019 08:26:28|      108|           0.67|       0.08|           91|\n",
      "+-------------------+---------+---------------+-----------+-------------+\n",
      "only showing top 20 rows\n",
      "\n"
     ]
    }
   ],
   "source": [
    "df2_sort.show()"
   ]
  },
  {
   "cell_type": "code",
   "execution_count": 31,
   "metadata": {
    "ExecuteTime": {
     "end_time": "2020-05-29T18:58:47.098217Z",
     "start_time": "2020-05-29T18:58:46.856497Z"
    }
   },
   "outputs": [
    {
     "name": "stdout",
     "output_type": "stream",
     "text": [
      "+-------------------+-----------+------------+\n",
      "|         event_date|location_id|temp_celcius|\n",
      "+-------------------+-----------+------------+\n",
      "|03/04/2019 19:48:06|       loc0|          29|\n",
      "|03/04/2019 19:53:06|       loc0|          27|\n",
      "|03/04/2019 19:58:06|       loc0|          28|\n",
      "|03/04/2019 20:03:06|       loc0|          30|\n",
      "|03/04/2019 20:08:06|       loc0|          27|\n",
      "|03/04/2019 20:13:06|       loc0|          27|\n",
      "|03/04/2019 20:18:06|       loc0|          27|\n",
      "|03/04/2019 20:23:06|       loc0|          29|\n",
      "|03/04/2019 20:28:06|       loc0|          32|\n",
      "|03/04/2019 20:33:06|       loc0|          35|\n",
      "|03/04/2019 20:38:06|       loc0|          32|\n",
      "|03/04/2019 20:43:06|       loc0|          28|\n",
      "|03/04/2019 20:48:06|       loc0|          28|\n",
      "|03/04/2019 20:53:06|       loc0|          32|\n",
      "|03/04/2019 20:58:06|       loc0|          34|\n",
      "|03/04/2019 21:03:06|       loc0|          33|\n",
      "|03/04/2019 21:08:06|       loc0|          27|\n",
      "|03/04/2019 21:13:06|       loc0|          28|\n",
      "|03/04/2019 21:18:06|       loc0|          33|\n",
      "|03/04/2019 21:23:06|       loc0|          28|\n",
      "+-------------------+-----------+------------+\n",
      "only showing top 20 rows\n",
      "\n"
     ]
    }
   ],
   "source": [
    "df1.filter(df1['location_id']=='loc0').show()"
   ]
  },
  {
   "cell_type": "code",
   "execution_count": 32,
   "metadata": {
    "ExecuteTime": {
     "end_time": "2020-05-29T18:59:15.671873Z",
     "start_time": "2020-05-29T18:59:15.020618Z"
    }
   },
   "outputs": [
    {
     "data": {
      "text/plain": [
       "1000"
      ]
     },
     "execution_count": 32,
     "metadata": {},
     "output_type": "execute_result"
    }
   ],
   "source": [
    "df1.filter(df1['location_id']=='loc0').count()"
   ]
  },
  {
   "cell_type": "code",
   "execution_count": 33,
   "metadata": {
    "ExecuteTime": {
     "end_time": "2020-05-29T18:59:25.724251Z",
     "start_time": "2020-05-29T18:59:25.249197Z"
    }
   },
   "outputs": [
    {
     "data": {
      "text/plain": [
       "1000"
      ]
     },
     "execution_count": 33,
     "metadata": {},
     "output_type": "execute_result"
    }
   ],
   "source": [
    "df1.filter(df1['location_id']=='loc1').count()"
   ]
  },
  {
   "cell_type": "code",
   "execution_count": 34,
   "metadata": {
    "ExecuteTime": {
     "end_time": "2020-05-29T18:59:39.623093Z",
     "start_time": "2020-05-29T18:59:39.428084Z"
    }
   },
   "outputs": [
    {
     "name": "stdout",
     "output_type": "stream",
     "text": [
      "+-------------------+-----------+------------+\n",
      "|         event_date|location_id|temp_celcius|\n",
      "+-------------------+-----------+------------+\n",
      "|03/04/2019 19:48:06|       loc1|          31|\n",
      "|03/04/2019 19:53:06|       loc1|          26|\n",
      "|03/04/2019 19:58:06|       loc1|          31|\n",
      "|03/04/2019 20:03:06|       loc1|          26|\n",
      "|03/04/2019 20:08:06|       loc1|          28|\n",
      "|03/04/2019 20:13:06|       loc1|          27|\n",
      "|03/04/2019 20:18:06|       loc1|          30|\n",
      "|03/04/2019 20:23:06|       loc1|          28|\n",
      "|03/04/2019 20:28:06|       loc1|          28|\n",
      "|03/04/2019 20:33:06|       loc1|          27|\n",
      "|03/04/2019 20:38:06|       loc1|          30|\n",
      "|03/04/2019 20:43:06|       loc1|          32|\n",
      "|03/04/2019 20:48:06|       loc1|          26|\n",
      "|03/04/2019 20:53:06|       loc1|          30|\n",
      "|03/04/2019 20:58:06|       loc1|          26|\n",
      "|03/04/2019 21:03:06|       loc1|          28|\n",
      "|03/04/2019 21:08:06|       loc1|          27|\n",
      "|03/04/2019 21:13:06|       loc1|          28|\n",
      "|03/04/2019 21:18:06|       loc1|          27|\n",
      "|03/04/2019 21:23:06|       loc1|          26|\n",
      "+-------------------+-----------+------------+\n",
      "only showing top 20 rows\n",
      "\n"
     ]
    }
   ],
   "source": [
    "df1.filter(df1['location_id']=='loc1').show()"
   ]
  },
  {
   "cell_type": "code",
   "execution_count": 35,
   "metadata": {
    "ExecuteTime": {
     "end_time": "2020-05-29T19:01:23.456558Z",
     "start_time": "2020-05-29T19:01:22.331290Z"
    }
   },
   "outputs": [
    {
     "name": "stdout",
     "output_type": "stream",
     "text": [
      "+-----------+-----+\n",
      "|location_id|count|\n",
      "+-----------+-----+\n",
      "|     loc196| 1000|\n",
      "|     loc226| 1000|\n",
      "|     loc463| 1000|\n",
      "|     loc150| 1000|\n",
      "|     loc292| 1000|\n",
      "|     loc311| 1000|\n",
      "|      loc22| 1000|\n",
      "|     loc351| 1000|\n",
      "|     loc370| 1000|\n",
      "|     loc419| 1000|\n",
      "|      loc31| 1000|\n",
      "|     loc305| 1000|\n",
      "|      loc82| 1000|\n",
      "|      loc90| 1000|\n",
      "|     loc118| 1000|\n",
      "|     loc195| 1000|\n",
      "|     loc208| 1000|\n",
      "|      loc39| 1000|\n",
      "|      loc75| 1000|\n",
      "|     loc228| 1000|\n",
      "+-----------+-----+\n",
      "only showing top 20 rows\n",
      "\n"
     ]
    }
   ],
   "source": [
    "df1.groupBy(\"location_id\").count().show()"
   ]
  },
  {
   "cell_type": "code",
   "execution_count": 36,
   "metadata": {
    "ExecuteTime": {
     "end_time": "2020-05-29T19:01:50.891237Z",
     "start_time": "2020-05-29T19:01:50.282821Z"
    }
   },
   "outputs": [
    {
     "name": "stdout",
     "output_type": "stream",
     "text": [
      "+-------------------+-----------+------------+\n",
      "|         event_date|location_id|temp_celcius|\n",
      "+-------------------+-----------+------------+\n",
      "|03/04/2019 21:23:06|       loc0|          28|\n",
      "|03/04/2019 20:43:06|       loc0|          28|\n",
      "|03/04/2019 21:18:06|       loc0|          33|\n",
      "|03/04/2019 20:18:06|       loc0|          27|\n",
      "|03/04/2019 20:38:06|       loc0|          32|\n",
      "|03/04/2019 20:58:06|       loc0|          34|\n",
      "|03/04/2019 21:13:06|       loc0|          28|\n",
      "|03/04/2019 19:58:06|       loc0|          28|\n",
      "|03/04/2019 20:13:06|       loc0|          27|\n",
      "|03/04/2019 20:28:06|       loc0|          32|\n",
      "|03/04/2019 20:33:06|       loc0|          35|\n",
      "|03/04/2019 20:48:06|       loc0|          28|\n",
      "|03/04/2019 20:53:06|       loc0|          32|\n",
      "|03/04/2019 21:03:06|       loc0|          33|\n",
      "|03/04/2019 21:08:06|       loc0|          27|\n",
      "|03/04/2019 19:48:06|       loc0|          29|\n",
      "|03/04/2019 19:53:06|       loc0|          27|\n",
      "|03/04/2019 20:03:06|       loc0|          30|\n",
      "|03/04/2019 20:08:06|       loc0|          27|\n",
      "|03/04/2019 20:23:06|       loc0|          29|\n",
      "+-------------------+-----------+------------+\n",
      "only showing top 20 rows\n",
      "\n"
     ]
    }
   ],
   "source": [
    "df1.orderBy(\"location_id\").show()"
   ]
  },
  {
   "cell_type": "code",
   "execution_count": 39,
   "metadata": {
    "ExecuteTime": {
     "end_time": "2020-05-29T19:04:21.678610Z",
     "start_time": "2020-05-29T19:04:20.699474Z"
    }
   },
   "outputs": [
    {
     "name": "stdout",
     "output_type": "stream",
     "text": [
      "+-----------+-----------------+\n",
      "|location_id|avg(temp_celcius)|\n",
      "+-----------+-----------------+\n",
      "|     loc196|           29.225|\n",
      "|     loc226|           25.306|\n",
      "|     loc463|           23.317|\n",
      "|     loc150|           32.188|\n",
      "|     loc292|           29.159|\n",
      "|     loc311|           24.308|\n",
      "|      loc22|           28.251|\n",
      "|     loc351|           28.194|\n",
      "|     loc370|            29.14|\n",
      "|     loc419|           29.141|\n",
      "|      loc31|           25.196|\n",
      "|     loc305|           27.314|\n",
      "|      loc82|           27.355|\n",
      "|      loc90|           23.216|\n",
      "|     loc118|           24.219|\n",
      "|     loc195|            27.25|\n",
      "|     loc208|           26.206|\n",
      "|      loc39|           25.199|\n",
      "|      loc75|           23.209|\n",
      "|     loc228|           27.295|\n",
      "+-----------+-----------------+\n",
      "only showing top 20 rows\n",
      "\n"
     ]
    }
   ],
   "source": [
    "df1.groupBy(\"location_id\").agg({'temp_celcius':'mean'}).show()"
   ]
  },
  {
   "cell_type": "code",
   "execution_count": 40,
   "metadata": {
    "ExecuteTime": {
     "end_time": "2020-05-29T19:04:47.123423Z",
     "start_time": "2020-05-29T19:04:45.952145Z"
    }
   },
   "outputs": [
    {
     "name": "stdout",
     "output_type": "stream",
     "text": [
      "+-----------+-----------------+\n",
      "|location_id|max(temp_celcius)|\n",
      "+-----------+-----------------+\n",
      "|     loc196|               36|\n",
      "|     loc226|               32|\n",
      "|     loc463|               30|\n",
      "|     loc150|               39|\n",
      "|     loc292|               36|\n",
      "|     loc311|               31|\n",
      "|      loc22|               35|\n",
      "|     loc351|               35|\n",
      "|     loc370|               36|\n",
      "|     loc419|               36|\n",
      "|     loc305|               34|\n",
      "|      loc31|               32|\n",
      "|     loc118|               31|\n",
      "|     loc195|               34|\n",
      "|     loc208|               33|\n",
      "|      loc82|               34|\n",
      "|      loc90|               30|\n",
      "|     loc228|               34|\n",
      "|      loc39|               32|\n",
      "|      loc75|               30|\n",
      "+-----------+-----------------+\n",
      "only showing top 20 rows\n",
      "\n"
     ]
    }
   ],
   "source": [
    "df1.groupBy(\"location_id\").agg({'temp_celcius':'max'}).show()"
   ]
  },
  {
   "cell_type": "code",
   "execution_count": 41,
   "metadata": {
    "ExecuteTime": {
     "end_time": "2020-05-29T19:06:19.133130Z",
     "start_time": "2020-05-29T19:06:18.886876Z"
    }
   },
   "outputs": [
    {
     "data": {
      "text/plain": [
       "500000"
      ]
     },
     "execution_count": 41,
     "metadata": {},
     "output_type": "execute_result"
    }
   ],
   "source": [
    "df1.count()"
   ]
  },
  {
   "cell_type": "code",
   "execution_count": 42,
   "metadata": {
    "ExecuteTime": {
     "end_time": "2020-05-29T19:07:05.933540Z",
     "start_time": "2020-05-29T19:07:05.924841Z"
    }
   },
   "outputs": [],
   "source": [
    "df1_s1 = df1.sample(fraction=0.1,withReplacement=False)"
   ]
  },
  {
   "cell_type": "code",
   "execution_count": 43,
   "metadata": {
    "ExecuteTime": {
     "end_time": "2020-05-29T19:07:15.796636Z",
     "start_time": "2020-05-29T19:07:15.524206Z"
    }
   },
   "outputs": [
    {
     "data": {
      "text/plain": [
       "49966"
      ]
     },
     "execution_count": 43,
     "metadata": {},
     "output_type": "execute_result"
    }
   ],
   "source": [
    "df1_s1.count()"
   ]
  },
  {
   "cell_type": "code",
   "execution_count": 45,
   "metadata": {
    "ExecuteTime": {
     "end_time": "2020-05-29T19:08:17.450384Z",
     "start_time": "2020-05-29T19:08:16.605688Z"
    }
   },
   "outputs": [
    {
     "name": "stdout",
     "output_type": "stream",
     "text": [
      "+-----------+------------------+\n",
      "|location_id| avg(temp_celcius)|\n",
      "+-----------+------------------+\n",
      "|     loc196|             29.03|\n",
      "|     loc226| 25.23148148148148|\n",
      "|     loc463|23.545454545454547|\n",
      "|     loc150| 32.47115384615385|\n",
      "|     loc292| 28.88235294117647|\n",
      "|     loc311| 24.45045045045045|\n",
      "|      loc22|28.208333333333332|\n",
      "|     loc351|28.019417475728154|\n",
      "|     loc370|28.944444444444443|\n",
      "|     loc419| 28.84158415841584|\n",
      "|      loc31|25.033333333333335|\n",
      "|     loc305|27.146067415730336|\n",
      "|      loc82| 27.54310344827586|\n",
      "|      loc90|23.091954022988507|\n",
      "|     loc118| 24.11578947368421|\n",
      "|     loc195|             27.37|\n",
      "|     loc208|26.466019417475728|\n",
      "|      loc39| 25.37962962962963|\n",
      "|      loc75|23.147368421052633|\n",
      "|     loc228|27.318181818181817|\n",
      "+-----------+------------------+\n",
      "only showing top 20 rows\n",
      "\n"
     ]
    }
   ],
   "source": [
    "df1_s1.groupBy(\"location_id\").agg({\"temp_celcius\":\"mean\"}).show()"
   ]
  },
  {
   "cell_type": "code",
   "execution_count": 46,
   "metadata": {
    "ExecuteTime": {
     "end_time": "2020-05-29T19:09:01.630111Z",
     "start_time": "2020-05-29T19:09:00.243037Z"
    }
   },
   "outputs": [
    {
     "name": "stdout",
     "output_type": "stream",
     "text": [
      "+-----------+------------------+\n",
      "|location_id| avg(temp_celcius)|\n",
      "+-----------+------------------+\n",
      "|       loc0|29.617977528089888|\n",
      "|       loc1|28.349397590361445|\n",
      "|      loc10|25.151898734177216|\n",
      "|     loc100| 26.98989898989899|\n",
      "|     loc101|             25.42|\n",
      "|     loc102| 30.53211009174312|\n",
      "|     loc103|25.355555555555554|\n",
      "|     loc104|26.214285714285715|\n",
      "|     loc105| 26.13186813186813|\n",
      "|     loc106| 26.99009900990099|\n",
      "|     loc107|33.472527472527474|\n",
      "|     loc108| 32.23809523809524|\n",
      "|     loc109| 24.03061224489796|\n",
      "|      loc11|25.169811320754718|\n",
      "|     loc110|  26.2803738317757|\n",
      "|     loc111| 31.02777777777778|\n",
      "|     loc112| 33.12903225806452|\n",
      "|     loc113|30.289719626168225|\n",
      "|     loc114| 29.27358490566038|\n",
      "|     loc115|23.387755102040817|\n",
      "+-----------+------------------+\n",
      "only showing top 20 rows\n",
      "\n"
     ]
    }
   ],
   "source": [
    "df1_s1.groupBy(\"location_id\").agg({\"temp_celcius\":\"mean\"}).orderBy(\"location_id\").show()"
   ]
  },
  {
   "cell_type": "code",
   "execution_count": 47,
   "metadata": {
    "ExecuteTime": {
     "end_time": "2020-05-29T19:10:14.891318Z",
     "start_time": "2020-05-29T19:10:13.535204Z"
    }
   },
   "outputs": [
    {
     "name": "stdout",
     "output_type": "stream",
     "text": [
      "+-----------+-----------------+\n",
      "|location_id|avg(temp_celcius)|\n",
      "+-----------+-----------------+\n",
      "|       loc0|           29.176|\n",
      "|       loc1|           28.246|\n",
      "|      loc10|           25.337|\n",
      "|     loc100|           27.297|\n",
      "|     loc101|           25.317|\n",
      "|     loc102|           30.327|\n",
      "|     loc103|           25.341|\n",
      "|     loc104|           26.204|\n",
      "|     loc105|           26.217|\n",
      "|     loc106|           27.201|\n",
      "|     loc107|           33.268|\n",
      "|     loc108|           32.195|\n",
      "|     loc109|           24.138|\n",
      "|      loc11|           25.308|\n",
      "|     loc110|           26.239|\n",
      "|     loc111|           31.391|\n",
      "|     loc112|           33.359|\n",
      "|     loc113|           30.345|\n",
      "|     loc114|           29.261|\n",
      "|     loc115|           23.239|\n",
      "+-----------+-----------------+\n",
      "only showing top 20 rows\n",
      "\n"
     ]
    }
   ],
   "source": [
    "df1.groupBy(\"location_id\").agg({\"temp_celcius\":\"mean\"}).orderBy(\"location_id\").show()"
   ]
  },
  {
   "cell_type": "markdown",
   "metadata": {},
   "source": [
    "## Spark SQL"
   ]
  },
  {
   "cell_type": "code",
   "execution_count": 48,
   "metadata": {
    "ExecuteTime": {
     "end_time": "2020-05-29T19:18:51.849728Z",
     "start_time": "2020-05-29T19:18:51.721165Z"
    }
   },
   "outputs": [
    {
     "name": "stdout",
     "output_type": "stream",
     "text": [
      "+-------------------+---------+---------------+-----------+-------------+\n",
      "|     event_datetime|server_id|cpu_utilization|free_memory|session_count|\n",
      "+-------------------+---------+---------------+-----------+-------------+\n",
      "|03/05/2019 08:06:14|      100|           0.57|       0.51|           47|\n",
      "|03/05/2019 08:11:14|      100|           0.47|       0.62|           43|\n",
      "|03/05/2019 08:16:14|      100|           0.56|       0.57|           62|\n",
      "|03/05/2019 08:21:14|      100|           0.57|       0.56|           50|\n",
      "|03/05/2019 08:26:14|      100|           0.35|       0.46|           43|\n",
      "|03/05/2019 08:31:14|      100|           0.41|       0.58|           48|\n",
      "|03/05/2019 08:36:14|      100|           0.57|       0.35|           58|\n",
      "|03/05/2019 08:41:14|      100|           0.41|        0.4|           58|\n",
      "|03/05/2019 08:46:14|      100|           0.53|       0.35|           62|\n",
      "|03/05/2019 08:51:14|      100|           0.51|        0.6|           45|\n",
      "|03/05/2019 08:56:14|      100|           0.32|       0.37|           47|\n",
      "|03/05/2019 09:01:14|      100|           0.62|       0.59|           60|\n",
      "|03/05/2019 09:06:14|      100|           0.66|       0.72|           57|\n",
      "|03/05/2019 09:11:14|      100|           0.54|       0.54|           44|\n",
      "|03/05/2019 09:16:14|      100|           0.29|        0.4|           47|\n",
      "|03/05/2019 09:21:14|      100|           0.43|       0.68|           66|\n",
      "|03/05/2019 09:26:14|      100|           0.49|       0.66|           65|\n",
      "|03/05/2019 09:31:14|      100|           0.64|       0.55|           66|\n",
      "|03/05/2019 09:36:14|      100|           0.42|        0.6|           42|\n",
      "|03/05/2019 09:41:14|      100|           0.55|       0.59|           63|\n",
      "+-------------------+---------+---------------+-----------+-------------+\n",
      "only showing top 20 rows\n",
      "\n"
     ]
    }
   ],
   "source": [
    "df2.show()"
   ]
  },
  {
   "cell_type": "code",
   "execution_count": 49,
   "metadata": {
    "ExecuteTime": {
     "end_time": "2020-05-29T19:19:37.270445Z",
     "start_time": "2020-05-29T19:19:36.964694Z"
    }
   },
   "outputs": [],
   "source": [
    "df2.createOrReplaceTempView(\"utilization\")"
   ]
  },
  {
   "cell_type": "code",
   "execution_count": 53,
   "metadata": {
    "ExecuteTime": {
     "end_time": "2020-05-29T19:21:03.211562Z",
     "start_time": "2020-05-29T19:21:03.151732Z"
    }
   },
   "outputs": [],
   "source": [
    "df_sql = spark.sql(\"SELECT server_id, session_count FROM utilization LIMIT 10\")"
   ]
  },
  {
   "cell_type": "code",
   "execution_count": 54,
   "metadata": {
    "ExecuteTime": {
     "end_time": "2020-05-29T19:21:04.227456Z",
     "start_time": "2020-05-29T19:21:03.743596Z"
    }
   },
   "outputs": [
    {
     "name": "stdout",
     "output_type": "stream",
     "text": [
      "+---------+-------------+\n",
      "|server_id|session_count|\n",
      "+---------+-------------+\n",
      "|      100|           47|\n",
      "|      100|           43|\n",
      "|      100|           62|\n",
      "|      100|           50|\n",
      "|      100|           43|\n",
      "|      100|           48|\n",
      "|      100|           58|\n",
      "|      100|           58|\n",
      "|      100|           62|\n",
      "|      100|           45|\n",
      "+---------+-------------+\n",
      "\n"
     ]
    }
   ],
   "source": [
    "df_sql.show()"
   ]
  },
  {
   "cell_type": "code",
   "execution_count": 56,
   "metadata": {
    "ExecuteTime": {
     "end_time": "2020-05-29T19:22:20.279366Z",
     "start_time": "2020-05-29T19:22:19.743988Z"
    }
   },
   "outputs": [
    {
     "name": "stdout",
     "output_type": "stream",
     "text": [
      "+---+---+\n",
      "|sid| sc|\n",
      "+---+---+\n",
      "|100| 47|\n",
      "|100| 43|\n",
      "|100| 62|\n",
      "|100| 50|\n",
      "|100| 43|\n",
      "|100| 48|\n",
      "|100| 58|\n",
      "|100| 58|\n",
      "|100| 62|\n",
      "|100| 45|\n",
      "+---+---+\n",
      "\n"
     ]
    }
   ],
   "source": [
    "df_sql = spark.sql(\"SELECT server_id AS sid, session_count AS sc  FROM utilization LIMIT 10\")\n",
    "df_sql.show()"
   ]
  },
  {
   "cell_type": "code",
   "execution_count": 57,
   "metadata": {
    "ExecuteTime": {
     "end_time": "2020-05-29T19:24:04.480641Z",
     "start_time": "2020-05-29T19:24:03.556719Z"
    }
   },
   "outputs": [
    {
     "name": "stdout",
     "output_type": "stream",
     "text": [
      "+-------------------+---------+---------------+-----------+-------------+\n",
      "|     event_datetime|server_id|cpu_utilization|free_memory|session_count|\n",
      "+-------------------+---------+---------------+-----------+-------------+\n",
      "|03/05/2019 08:06:48|      120|           0.66|       0.31|           54|\n",
      "|03/05/2019 08:11:48|      120|           0.58|       0.38|           64|\n",
      "|03/05/2019 08:16:48|      120|           0.55|       0.61|           54|\n",
      "|03/05/2019 08:21:48|      120|            0.7|       0.35|           80|\n",
      "|03/05/2019 08:26:48|      120|            0.6|       0.39|           71|\n",
      "|03/05/2019 08:31:48|      120|           0.53|       0.35|           49|\n",
      "|03/05/2019 08:36:48|      120|           0.73|       0.42|           73|\n",
      "|03/05/2019 08:41:48|      120|           0.41|        0.6|           72|\n",
      "|03/05/2019 08:46:48|      120|           0.62|       0.57|           57|\n",
      "|03/05/2019 08:51:48|      120|           0.67|       0.44|           78|\n",
      "|03/05/2019 08:56:48|      120|           0.67|       0.38|           73|\n",
      "|03/05/2019 09:01:48|      120|           0.39|       0.47|           58|\n",
      "|03/05/2019 09:06:48|      120|            0.5|       0.29|           78|\n",
      "|03/05/2019 09:11:48|      120|           0.38|       0.38|           56|\n",
      "|03/05/2019 09:16:48|      120|           0.53|       0.38|           47|\n",
      "|03/05/2019 09:21:48|      120|           0.74|       0.25|           69|\n",
      "|03/05/2019 09:26:48|      120|           0.53|       0.57|           73|\n",
      "|03/05/2019 09:31:48|      120|           0.54|       0.64|           65|\n",
      "|03/05/2019 09:36:48|      120|            0.7|       0.52|           55|\n",
      "|03/05/2019 09:41:48|      120|           0.54|       0.27|           74|\n",
      "+-------------------+---------+---------------+-----------+-------------+\n",
      "only showing top 20 rows\n",
      "\n"
     ]
    }
   ],
   "source": [
    "df_sql = spark.sql(\"SELECT * FROM utilization WHERE server_id = 120\")\n",
    "df_sql.show()"
   ]
  },
  {
   "cell_type": "code",
   "execution_count": 58,
   "metadata": {
    "ExecuteTime": {
     "end_time": "2020-05-29T19:25:10.475517Z",
     "start_time": "2020-05-29T19:25:10.307233Z"
    }
   },
   "outputs": [
    {
     "name": "stdout",
     "output_type": "stream",
     "text": [
      "+---------+-------------+\n",
      "|server_id|session_count|\n",
      "+---------+-------------+\n",
      "|      100|           71|\n",
      "|      100|           71|\n",
      "|      100|           71|\n",
      "|      100|           71|\n",
      "|      100|           72|\n",
      "|      100|           72|\n",
      "|      100|           71|\n",
      "|      100|           71|\n",
      "|      100|           71|\n",
      "|      100|           72|\n",
      "|      100|           71|\n",
      "|      100|           72|\n",
      "|      100|           71|\n",
      "|      100|           71|\n",
      "|      100|           72|\n",
      "|      100|           71|\n",
      "|      100|           72|\n",
      "|      100|           72|\n",
      "|      100|           71|\n",
      "|      100|           71|\n",
      "+---------+-------------+\n",
      "only showing top 20 rows\n",
      "\n"
     ]
    }
   ],
   "source": [
    "df_sql = spark.sql(\"SELECT server_id, session_count  FROM utilization WHERE session_count > 70\")\n",
    "df_sql.show()"
   ]
  },
  {
   "cell_type": "code",
   "execution_count": 59,
   "metadata": {
    "ExecuteTime": {
     "end_time": "2020-05-29T19:26:16.386648Z",
     "start_time": "2020-05-29T19:26:15.773233Z"
    }
   },
   "outputs": [
    {
     "name": "stdout",
     "output_type": "stream",
     "text": [
      "+---------+-------------+\n",
      "|server_id|session_count|\n",
      "+---------+-------------+\n",
      "|      120|           80|\n",
      "|      120|           71|\n",
      "|      120|           73|\n",
      "|      120|           72|\n",
      "|      120|           78|\n",
      "|      120|           73|\n",
      "|      120|           78|\n",
      "|      120|           73|\n",
      "|      120|           74|\n",
      "|      120|           78|\n",
      "|      120|           75|\n",
      "|      120|           75|\n",
      "|      120|           73|\n",
      "|      120|           79|\n",
      "|      120|           72|\n",
      "|      120|           77|\n",
      "|      120|           75|\n",
      "|      120|           72|\n",
      "|      120|           79|\n",
      "|      120|           75|\n",
      "+---------+-------------+\n",
      "only showing top 20 rows\n",
      "\n"
     ]
    }
   ],
   "source": [
    "df_sql = spark.sql(\"SELECT server_id , session_count FROM utilization WHERE session_count> 70 AND server_id = 120\")\n",
    "df_sql.show()"
   ]
  },
  {
   "cell_type": "code",
   "execution_count": 61,
   "metadata": {
    "ExecuteTime": {
     "end_time": "2020-05-29T19:29:22.331079Z",
     "start_time": "2020-05-29T19:29:21.774003Z"
    }
   },
   "outputs": [
    {
     "name": "stdout",
     "output_type": "stream",
     "text": [
      "+---------+-------------+\n",
      "|server_id|session_count|\n",
      "+---------+-------------+\n",
      "|      120|           80|\n",
      "|      120|           80|\n",
      "|      120|           80|\n",
      "|      120|           80|\n",
      "|      120|           80|\n",
      "|      120|           80|\n",
      "|      120|           80|\n",
      "|      120|           80|\n",
      "|      120|           80|\n",
      "|      120|           80|\n",
      "|      120|           80|\n",
      "|      120|           80|\n",
      "|      120|           80|\n",
      "|      120|           80|\n",
      "|      120|           80|\n",
      "|      120|           80|\n",
      "|      120|           80|\n",
      "|      120|           80|\n",
      "|      120|           80|\n",
      "|      120|           80|\n",
      "+---------+-------------+\n",
      "only showing top 20 rows\n",
      "\n"
     ]
    }
   ],
   "source": [
    "df_sql = spark.sql(\n",
    "    \"SELECT server_id , session_count FROM utilization WHERE session_count> 70 AND server_id = 120 ORDER BY session_count DESC\"\n",
    ")\n",
    "df_sql.show()"
   ]
  },
  {
   "cell_type": "code",
   "execution_count": 62,
   "metadata": {
    "ExecuteTime": {
     "end_time": "2020-05-29T19:31:07.454290Z",
     "start_time": "2020-05-29T19:31:07.428064Z"
    }
   },
   "outputs": [
    {
     "data": {
      "text/plain": [
       "DataFrame[count(1): bigint]"
      ]
     },
     "execution_count": 62,
     "metadata": {},
     "output_type": "execute_result"
    }
   ],
   "source": [
    "df_count = spark.sql(\"SELECT count(*) FROM utilization\")\n",
    "df_count"
   ]
  },
  {
   "cell_type": "code",
   "execution_count": 63,
   "metadata": {
    "ExecuteTime": {
     "end_time": "2020-05-29T19:32:32.133711Z",
     "start_time": "2020-05-29T19:32:31.458682Z"
    }
   },
   "outputs": [
    {
     "name": "stdout",
     "output_type": "stream",
     "text": [
      "+--------+\n",
      "|count(1)|\n",
      "+--------+\n",
      "|  239659|\n",
      "+--------+\n",
      "\n"
     ]
    }
   ],
   "source": [
    "df_sql = spark.sql(\"SELECT count(*) FROM utilization WHERE session_count>70\")\n",
    "df_sql.show()"
   ]
  },
  {
   "cell_type": "code",
   "execution_count": 66,
   "metadata": {
    "ExecuteTime": {
     "end_time": "2020-05-29T19:33:12.059331Z",
     "start_time": "2020-05-29T19:33:11.297651Z"
    }
   },
   "outputs": [
    {
     "name": "stdout",
     "output_type": "stream",
     "text": [
      "+---------+--------+\n",
      "|server_id|count(1)|\n",
      "+---------+--------+\n",
      "|      148|    8027|\n",
      "|      137|    8248|\n",
      "|      133|    8583|\n",
      "|      108|    8375|\n",
      "|      101|    9808|\n",
      "|      115|    5284|\n",
      "|      126|    6365|\n",
      "|      103|    8744|\n",
      "|      128|    3719|\n",
      "|      122|    4885|\n",
      "|      111|    3093|\n",
      "|      140|    6163|\n",
      "|      132|    2048|\n",
      "|      146|    7072|\n",
      "|      142|    7084|\n",
      "|      139|    7383|\n",
      "|      120|    2733|\n",
      "|      117|    3605|\n",
      "|      112|    7425|\n",
      "|      127|    5961|\n",
      "+---------+--------+\n",
      "only showing top 20 rows\n",
      "\n"
     ]
    }
   ],
   "source": [
    "df_sql = spark.sql(\"SELECT server_id , count(*) FROM utilization WHERE session_count>70 GROUP BY server_id\")\n",
    "df_sql.show()"
   ]
  },
  {
   "cell_type": "code",
   "execution_count": 67,
   "metadata": {
    "ExecuteTime": {
     "end_time": "2020-05-29T19:33:49.507886Z",
     "start_time": "2020-05-29T19:33:48.563477Z"
    }
   },
   "outputs": [
    {
     "name": "stdout",
     "output_type": "stream",
     "text": [
      "+---------+--------+\n",
      "|server_id|count(1)|\n",
      "+---------+--------+\n",
      "|      101|    9808|\n",
      "|      113|    9418|\n",
      "|      145|    9304|\n",
      "|      103|    8744|\n",
      "|      102|    8586|\n",
      "|      133|    8583|\n",
      "|      108|    8375|\n",
      "|      149|    8288|\n",
      "|      137|    8248|\n",
      "|      148|    8027|\n",
      "|      123|    7918|\n",
      "|      118|    7913|\n",
      "|      112|    7425|\n",
      "|      139|    7383|\n",
      "|      104|    7366|\n",
      "|      121|    7084|\n",
      "|      142|    7084|\n",
      "|      146|    7072|\n",
      "|      126|    6365|\n",
      "|      144|    6220|\n",
      "+---------+--------+\n",
      "only showing top 20 rows\n",
      "\n"
     ]
    }
   ],
   "source": [
    "df_sql = spark.sql(\"SELECT server_id , count(*) FROM utilization WHERE session_count>70 GROUP BY server_id ORDER BY count(*) DESC\")\n",
    "df_sql.show()"
   ]
  },
  {
   "cell_type": "code",
   "execution_count": 68,
   "metadata": {
    "ExecuteTime": {
     "end_time": "2020-05-29T19:35:17.858096Z",
     "start_time": "2020-05-29T19:35:16.782466Z"
    }
   },
   "outputs": [
    {
     "name": "stdout",
     "output_type": "stream",
     "text": [
      "+---------+------------------+------------------+------------------+\n",
      "|server_id|min(session_count)|avg(session_count)|max(session_count)|\n",
      "+---------+------------------+------------------+------------------+\n",
      "|      101|                71| 87.66557911908646|               105|\n",
      "|      113|                71| 86.96262476109577|               103|\n",
      "|      145|                71| 86.97732158211522|               103|\n",
      "|      103|                71| 85.76372369624886|               101|\n",
      "|      102|                71| 85.71150710458886|               101|\n",
      "|      133|                71| 85.46720260981009|               100|\n",
      "|      108|                71|  85.1219104477612|               100|\n",
      "|      149|                71|  84.9612693050193|                99|\n",
      "|      137|                71|  85.0061833171678|                99|\n",
      "|      148|                71| 84.70350068518749|                99|\n",
      "|      123|                71| 84.53220510229856|                98|\n",
      "|      118|                71| 84.65777833944142|                98|\n",
      "|      112|                71| 83.54505050505051|                97|\n",
      "|      139|                71| 83.32710280373831|                96|\n",
      "|      104|                71| 83.34604941623677|                96|\n",
      "|      142|                71|  82.9049971767363|                95|\n",
      "|      121|                71| 82.88848108413326|                95|\n",
      "|      146|                71| 82.95093325791855|                95|\n",
      "|      126|                71| 81.56150824823253|                93|\n",
      "|      144|                71| 81.38472668810289|                92|\n",
      "+---------+------------------+------------------+------------------+\n",
      "only showing top 20 rows\n",
      "\n"
     ]
    }
   ],
   "source": [
    "df_sql = spark.sql(\n",
    "    \"SELECT server_id ,min(session_count),avg(session_count) ,max(session_count) FROM utilization WHERE session_count>70 GROUP BY server_id ORDER BY count(*) DESC\"\n",
    ")\n",
    "df_sql.show()"
   ]
  },
  {
   "cell_type": "code",
   "execution_count": 69,
   "metadata": {
    "ExecuteTime": {
     "end_time": "2020-05-29T19:36:05.575954Z",
     "start_time": "2020-05-29T19:36:04.565020Z"
    }
   },
   "outputs": [
    {
     "name": "stdout",
     "output_type": "stream",
     "text": [
      "+---------+------------------+--------------------------------------------+------------------+\n",
      "|server_id|min(session_count)|round(avg(CAST(session_count AS BIGINT)), 2)|max(session_count)|\n",
      "+---------+------------------+--------------------------------------------+------------------+\n",
      "|      101|                71|                                       87.67|               105|\n",
      "|      113|                71|                                       86.96|               103|\n",
      "|      145|                71|                                       86.98|               103|\n",
      "|      103|                71|                                       85.76|               101|\n",
      "|      102|                71|                                       85.71|               101|\n",
      "|      133|                71|                                       85.47|               100|\n",
      "|      108|                71|                                       85.12|               100|\n",
      "|      149|                71|                                       84.96|                99|\n",
      "|      137|                71|                                       85.01|                99|\n",
      "|      148|                71|                                        84.7|                99|\n",
      "|      123|                71|                                       84.53|                98|\n",
      "|      118|                71|                                       84.66|                98|\n",
      "|      112|                71|                                       83.55|                97|\n",
      "|      139|                71|                                       83.33|                96|\n",
      "|      104|                71|                                       83.35|                96|\n",
      "|      121|                71|                                       82.89|                95|\n",
      "|      142|                71|                                        82.9|                95|\n",
      "|      146|                71|                                       82.95|                95|\n",
      "|      126|                71|                                       81.56|                93|\n",
      "|      144|                71|                                       81.38|                92|\n",
      "+---------+------------------+--------------------------------------------+------------------+\n",
      "only showing top 20 rows\n",
      "\n"
     ]
    }
   ],
   "source": [
    "df_sql = spark.sql(\n",
    "    \"SELECT server_id ,min(session_count),round(avg(session_count),2) ,max(session_count) FROM utilization WHERE session_count>70 GROUP BY server_id ORDER BY count(*) DESC\"\n",
    ")\n",
    "df_sql.show()"
   ]
  },
  {
   "cell_type": "code",
   "execution_count": 70,
   "metadata": {
    "ExecuteTime": {
     "end_time": "2020-05-29T19:37:51.891850Z",
     "start_time": "2020-05-29T19:37:51.531908Z"
    }
   },
   "outputs": [
    {
     "name": "stdout",
     "output_type": "stream",
     "text": [
      "+---------+-----------+\n",
      "|server_id|server_name|\n",
      "+---------+-----------+\n",
      "|      100| 100 Server|\n",
      "|      101| 101 Server|\n",
      "|      102| 102 Server|\n",
      "|      103| 103 Server|\n",
      "|      104| 104 Server|\n",
      "|      105| 105 Server|\n",
      "|      106| 106 Server|\n",
      "|      107| 107 Server|\n",
      "|      108| 108 Server|\n",
      "|      109| 109 Server|\n",
      "|      110| 110 Server|\n",
      "|      111| 111 Server|\n",
      "|      112| 112 Server|\n",
      "|      113| 113 Server|\n",
      "|      114| 114 Server|\n",
      "|      115| 115 Server|\n",
      "|      116| 116 Server|\n",
      "|      117| 117 Server|\n",
      "|      118| 118 Server|\n",
      "|      119| 119 Server|\n",
      "+---------+-----------+\n",
      "only showing top 20 rows\n",
      "\n"
     ]
    }
   ],
   "source": [
    "csv_df_path = data_path +'/server_name.csv'\n",
    "df_server = spark.read.csv(csv_df_path,header=True)\n",
    "df_server.show()"
   ]
  },
  {
   "cell_type": "code",
   "execution_count": 71,
   "metadata": {
    "ExecuteTime": {
     "end_time": "2020-05-29T19:38:20.397823Z",
     "start_time": "2020-05-29T19:38:20.377954Z"
    }
   },
   "outputs": [],
   "source": [
    "df_server.createOrReplaceTempView(\"server_name\")"
   ]
  },
  {
   "cell_type": "code",
   "execution_count": 72,
   "metadata": {
    "ExecuteTime": {
     "end_time": "2020-05-29T19:39:02.708752Z",
     "start_time": "2020-05-29T19:39:01.829516Z"
    }
   },
   "outputs": [
    {
     "name": "stdout",
     "output_type": "stream",
     "text": [
      "+---------+\n",
      "|server_id|\n",
      "+---------+\n",
      "|      100|\n",
      "|      101|\n",
      "|      102|\n",
      "|      103|\n",
      "|      104|\n",
      "|      105|\n",
      "|      106|\n",
      "|      107|\n",
      "|      108|\n",
      "|      109|\n",
      "|      110|\n",
      "|      111|\n",
      "|      112|\n",
      "|      113|\n",
      "|      114|\n",
      "|      115|\n",
      "|      116|\n",
      "|      117|\n",
      "|      118|\n",
      "|      119|\n",
      "+---------+\n",
      "only showing top 20 rows\n",
      "\n"
     ]
    }
   ],
   "source": [
    "df_count = spark.sql(\"SELECT DISTINCT server_id from utilization ORDER BY server_id\")\n",
    "df_count.show()"
   ]
  },
  {
   "cell_type": "code",
   "execution_count": 73,
   "metadata": {
    "ExecuteTime": {
     "end_time": "2020-05-29T19:39:43.713997Z",
     "start_time": "2020-05-29T19:39:43.086038Z"
    }
   },
   "outputs": [
    {
     "name": "stdout",
     "output_type": "stream",
     "text": [
      "+--------------+--------------+\n",
      "|min(server_id)|max(server_id)|\n",
      "+--------------+--------------+\n",
      "|           100|           149|\n",
      "+--------------+--------------+\n",
      "\n"
     ]
    }
   ],
   "source": [
    "spark.sql(\"SELECT min(server_id), max(server_id) FROM utilization\").show()"
   ]
  },
  {
   "cell_type": "code",
   "execution_count": 74,
   "metadata": {
    "ExecuteTime": {
     "end_time": "2020-05-29T19:41:24.617012Z",
     "start_time": "2020-05-29T19:41:24.250723Z"
    }
   },
   "outputs": [
    {
     "name": "stdout",
     "output_type": "stream",
     "text": [
      "+---------+-----------+-------------+\n",
      "|server_id|server_name|session_count|\n",
      "+---------+-----------+-------------+\n",
      "|      100| 100 Server|           47|\n",
      "|      100| 100 Server|           43|\n",
      "|      100| 100 Server|           62|\n",
      "|      100| 100 Server|           50|\n",
      "|      100| 100 Server|           43|\n",
      "|      100| 100 Server|           48|\n",
      "|      100| 100 Server|           58|\n",
      "|      100| 100 Server|           58|\n",
      "|      100| 100 Server|           62|\n",
      "|      100| 100 Server|           45|\n",
      "|      100| 100 Server|           47|\n",
      "|      100| 100 Server|           60|\n",
      "|      100| 100 Server|           57|\n",
      "|      100| 100 Server|           44|\n",
      "|      100| 100 Server|           47|\n",
      "|      100| 100 Server|           66|\n",
      "|      100| 100 Server|           65|\n",
      "|      100| 100 Server|           66|\n",
      "|      100| 100 Server|           42|\n",
      "|      100| 100 Server|           63|\n",
      "+---------+-----------+-------------+\n",
      "only showing top 20 rows\n",
      "\n"
     ]
    }
   ],
   "source": [
    "df_join = spark.sql(\"SELECT u.server_id, sn.server_name, u.session_count FROM utilization u INNER JOIN server_name sn ON sn.server_id = u.server_id\")\n",
    "df_join.show()"
   ]
  },
  {
   "cell_type": "markdown",
   "metadata": {},
   "source": [
    "## De-Duplicating"
   ]
  },
  {
   "cell_type": "code",
   "execution_count": 1,
   "metadata": {
    "ExecuteTime": {
     "end_time": "2020-05-30T04:40:30.974252Z",
     "start_time": "2020-05-30T04:40:30.970198Z"
    }
   },
   "outputs": [],
   "source": [
    "from pyspark.sql import Row"
   ]
  },
  {
   "cell_type": "code",
   "execution_count": 4,
   "metadata": {
    "ExecuteTime": {
     "end_time": "2020-05-30T04:44:22.168154Z",
     "start_time": "2020-05-30T04:44:17.673790Z"
    }
   },
   "outputs": [],
   "source": [
    "df_dup = sc.parallelize([Row(server_name='101 server', cpu_utilization=85, session_count=80),\n",
    "                       Row(server_name='101 server', cpu_utilization=80, session_count=90),\n",
    "                       Row(server_name='102 server', cpu_utilization=85, session_count = 80),\n",
    "                       Row(server_name='102 server', cpu_utilization=85, session_count=80)]).toDF()"
   ]
  },
  {
   "cell_type": "code",
   "execution_count": 5,
   "metadata": {
    "ExecuteTime": {
     "end_time": "2020-05-30T04:44:28.297340Z",
     "start_time": "2020-05-30T04:44:27.403600Z"
    }
   },
   "outputs": [
    {
     "name": "stdout",
     "output_type": "stream",
     "text": [
      "+---------------+-----------+-------------+\n",
      "|cpu_utilization|server_name|session_count|\n",
      "+---------------+-----------+-------------+\n",
      "|             85| 101 server|           80|\n",
      "|             80| 101 server|           90|\n",
      "|             85| 102 server|           80|\n",
      "|             85| 102 server|           80|\n",
      "+---------------+-----------+-------------+\n",
      "\n"
     ]
    }
   ],
   "source": [
    "df_dup.show()"
   ]
  },
  {
   "cell_type": "code",
   "execution_count": 6,
   "metadata": {
    "ExecuteTime": {
     "end_time": "2020-05-30T04:45:11.455765Z",
     "start_time": "2020-05-30T04:45:10.148778Z"
    }
   },
   "outputs": [
    {
     "name": "stdout",
     "output_type": "stream",
     "text": [
      "+---------------+-----------+-------------+\n",
      "|cpu_utilization|server_name|session_count|\n",
      "+---------------+-----------+-------------+\n",
      "|             85| 102 server|           80|\n",
      "|             80| 101 server|           90|\n",
      "|             85| 101 server|           80|\n",
      "+---------------+-----------+-------------+\n",
      "\n"
     ]
    }
   ],
   "source": [
    "df_dup.drop_duplicates().show()"
   ]
  },
  {
   "cell_type": "code",
   "execution_count": 7,
   "metadata": {
    "ExecuteTime": {
     "end_time": "2020-05-30T04:45:38.682718Z",
     "start_time": "2020-05-30T04:45:37.963380Z"
    }
   },
   "outputs": [
    {
     "name": "stdout",
     "output_type": "stream",
     "text": [
      "+---------------+-----------+-------------+\n",
      "|cpu_utilization|server_name|session_count|\n",
      "+---------------+-----------+-------------+\n",
      "|             85| 102 server|           80|\n",
      "|             80| 101 server|           90|\n",
      "|             85| 101 server|           80|\n",
      "+---------------+-----------+-------------+\n",
      "\n"
     ]
    }
   ],
   "source": [
    "df_dup.dropDuplicates().show()"
   ]
  },
  {
   "cell_type": "code",
   "execution_count": 8,
   "metadata": {
    "ExecuteTime": {
     "end_time": "2020-05-30T04:45:56.095772Z",
     "start_time": "2020-05-30T04:45:55.281960Z"
    }
   },
   "outputs": [
    {
     "name": "stdout",
     "output_type": "stream",
     "text": [
      "+---------------+-----------+-------------+\n",
      "|cpu_utilization|server_name|session_count|\n",
      "+---------------+-----------+-------------+\n",
      "|             85| 102 server|           80|\n",
      "|             85| 101 server|           80|\n",
      "+---------------+-----------+-------------+\n",
      "\n"
     ]
    }
   ],
   "source": [
    "df_dup.drop_duplicates(['server_name']).show()"
   ]
  },
  {
   "cell_type": "markdown",
   "metadata": {},
   "source": [
    "## Working with NAs"
   ]
  },
  {
   "cell_type": "code",
   "execution_count": 17,
   "metadata": {
    "ExecuteTime": {
     "end_time": "2020-05-30T09:21:38.093428Z",
     "start_time": "2020-05-30T09:21:38.088876Z"
    }
   },
   "outputs": [],
   "source": [
    "from pyspark.sql import Row\n",
    "from pyspark.sql import SparkSession\n",
    "from pyspark.sql.functions import lit\n",
    "from pyspark.sql.types import StringType"
   ]
  },
  {
   "cell_type": "code",
   "execution_count": 18,
   "metadata": {
    "ExecuteTime": {
     "end_time": "2020-05-30T09:21:38.771729Z",
     "start_time": "2020-05-30T09:21:38.676754Z"
    }
   },
   "outputs": [],
   "source": [
    "df = sc.parallelize([\n",
    "    Row(server_name='101 server', cpu_utilization=85, session_count=80),\n",
    "    Row(server_name='101 server', cpu_utilization=80, session_count=90),\n",
    "    Row(server_name='102 server', cpu_utilization=85, session_count=40),\n",
    "    Row(server_name='103 server', cpu_utilization=70, session_count=80),\n",
    "    Row(server_name='104 server', cpu_utilization=60, session_count=80)\n",
    "]).toDF()"
   ]
  },
  {
   "cell_type": "code",
   "execution_count": 19,
   "metadata": {
    "ExecuteTime": {
     "end_time": "2020-05-30T09:21:39.427064Z",
     "start_time": "2020-05-30T09:21:39.312851Z"
    }
   },
   "outputs": [
    {
     "name": "stdout",
     "output_type": "stream",
     "text": [
      "+---------------+-----------+-------------+\n",
      "|cpu_utilization|server_name|session_count|\n",
      "+---------------+-----------+-------------+\n",
      "|             85| 101 server|           80|\n",
      "|             80| 101 server|           90|\n",
      "|             85| 102 server|           40|\n",
      "|             70| 103 server|           80|\n",
      "|             60| 104 server|           80|\n",
      "+---------------+-----------+-------------+\n",
      "\n"
     ]
    }
   ],
   "source": [
    "df.show()"
   ]
  },
  {
   "cell_type": "code",
   "execution_count": 20,
   "metadata": {
    "ExecuteTime": {
     "end_time": "2020-05-30T09:21:40.009036Z",
     "start_time": "2020-05-30T09:21:39.993085Z"
    }
   },
   "outputs": [],
   "source": [
    "df_na = df.withColumn('na_col',lit(None).cast(StringType()))"
   ]
  },
  {
   "cell_type": "code",
   "execution_count": 21,
   "metadata": {
    "ExecuteTime": {
     "end_time": "2020-05-30T09:21:41.430065Z",
     "start_time": "2020-05-30T09:21:41.284906Z"
    }
   },
   "outputs": [
    {
     "name": "stdout",
     "output_type": "stream",
     "text": [
      "+---------------+-----------+-------------+------+\n",
      "|cpu_utilization|server_name|session_count|na_col|\n",
      "+---------------+-----------+-------------+------+\n",
      "|             85| 101 server|           80|  null|\n",
      "|             80| 101 server|           90|  null|\n",
      "|             85| 102 server|           40|  null|\n",
      "|             70| 103 server|           80|  null|\n",
      "|             60| 104 server|           80|  null|\n",
      "+---------------+-----------+-------------+------+\n",
      "\n"
     ]
    }
   ],
   "source": [
    "df_na.show()"
   ]
  },
  {
   "cell_type": "code",
   "execution_count": 22,
   "metadata": {
    "ExecuteTime": {
     "end_time": "2020-05-30T09:21:45.964098Z",
     "start_time": "2020-05-30T09:21:45.817241Z"
    }
   },
   "outputs": [
    {
     "name": "stdout",
     "output_type": "stream",
     "text": [
      "+---------------+-----------+-------------+------+\n",
      "|cpu_utilization|server_name|session_count|na_col|\n",
      "+---------------+-----------+-------------+------+\n",
      "|             85| 101 server|           80|     A|\n",
      "|             80| 101 server|           90|     A|\n",
      "|             85| 102 server|           40|     A|\n",
      "|             70| 103 server|           80|     A|\n",
      "|             60| 104 server|           80|     A|\n",
      "+---------------+-----------+-------------+------+\n",
      "\n"
     ]
    }
   ],
   "source": [
    "df_na.fillna('A').show()"
   ]
  },
  {
   "cell_type": "code",
   "execution_count": 24,
   "metadata": {
    "ExecuteTime": {
     "end_time": "2020-05-30T09:22:08.295341Z",
     "start_time": "2020-05-30T09:22:08.062635Z"
    }
   },
   "outputs": [
    {
     "name": "stdout",
     "output_type": "stream",
     "text": [
      "+---------------+-----------+-------------+------+\n",
      "|cpu_utilization|server_name|session_count|na_col|\n",
      "+---------------+-----------+-------------+------+\n",
      "|             85| 101 server|           80|     A|\n",
      "|             80| 101 server|           90|     A|\n",
      "|             85| 102 server|           40|     A|\n",
      "|             70| 103 server|           80|     A|\n",
      "|             60| 104 server|           80|     A|\n",
      "|             85| 101 server|           80|  null|\n",
      "|             80| 101 server|           90|  null|\n",
      "|             85| 102 server|           40|  null|\n",
      "|             70| 103 server|           80|  null|\n",
      "|             60| 104 server|           80|  null|\n",
      "+---------------+-----------+-------------+------+\n",
      "\n"
     ]
    }
   ],
   "source": [
    "df2 = df_na.fillna('A').union(df_na)\n",
    "df2.show()"
   ]
  },
  {
   "cell_type": "code",
   "execution_count": 25,
   "metadata": {
    "ExecuteTime": {
     "end_time": "2020-05-30T09:22:34.804732Z",
     "start_time": "2020-05-30T09:22:34.498151Z"
    }
   },
   "outputs": [
    {
     "name": "stdout",
     "output_type": "stream",
     "text": [
      "+---------------+-----------+-------------+------+\n",
      "|cpu_utilization|server_name|session_count|na_col|\n",
      "+---------------+-----------+-------------+------+\n",
      "|             85| 101 server|           80|     A|\n",
      "|             80| 101 server|           90|     A|\n",
      "|             85| 102 server|           40|     A|\n",
      "|             70| 103 server|           80|     A|\n",
      "|             60| 104 server|           80|     A|\n",
      "+---------------+-----------+-------------+------+\n",
      "\n"
     ]
    }
   ],
   "source": [
    "df2.na.drop().show()"
   ]
  },
  {
   "cell_type": "code",
   "execution_count": 26,
   "metadata": {
    "ExecuteTime": {
     "end_time": "2020-05-30T09:22:57.780961Z",
     "start_time": "2020-05-30T09:22:57.521371Z"
    }
   },
   "outputs": [],
   "source": [
    "df2.createOrReplaceTempView('na_table')"
   ]
  },
  {
   "cell_type": "code",
   "execution_count": 27,
   "metadata": {
    "ExecuteTime": {
     "end_time": "2020-05-30T09:23:25.273446Z",
     "start_time": "2020-05-30T09:23:19.739711Z"
    }
   },
   "outputs": [
    {
     "name": "stdout",
     "output_type": "stream",
     "text": [
      "+---------------+-----------+-------------+------+\n",
      "|cpu_utilization|server_name|session_count|na_col|\n",
      "+---------------+-----------+-------------+------+\n",
      "|             85| 101 server|           80|     A|\n",
      "|             80| 101 server|           90|     A|\n",
      "|             85| 102 server|           40|     A|\n",
      "|             70| 103 server|           80|     A|\n",
      "|             60| 104 server|           80|     A|\n",
      "|             85| 101 server|           80|  null|\n",
      "|             80| 101 server|           90|  null|\n",
      "|             85| 102 server|           40|  null|\n",
      "|             70| 103 server|           80|  null|\n",
      "|             60| 104 server|           80|  null|\n",
      "+---------------+-----------+-------------+------+\n",
      "\n"
     ]
    }
   ],
   "source": [
    "spark.sql('SELECT * FROM na_table').show()"
   ]
  },
  {
   "cell_type": "code",
   "execution_count": 28,
   "metadata": {
    "ExecuteTime": {
     "end_time": "2020-05-30T09:24:27.465533Z",
     "start_time": "2020-05-30T09:24:27.232044Z"
    }
   },
   "outputs": [
    {
     "name": "stdout",
     "output_type": "stream",
     "text": [
      "+---------------+-----------+-------------+------+\n",
      "|cpu_utilization|server_name|session_count|na_col|\n",
      "+---------------+-----------+-------------+------+\n",
      "|             85| 101 server|           80|  null|\n",
      "|             80| 101 server|           90|  null|\n",
      "|             85| 102 server|           40|  null|\n",
      "|             70| 103 server|           80|  null|\n",
      "|             60| 104 server|           80|  null|\n",
      "+---------------+-----------+-------------+------+\n",
      "\n"
     ]
    }
   ],
   "source": [
    "spark.sql('SELECT * FROM na_table WHERE na_col IS NULL').show()"
   ]
  },
  {
   "cell_type": "code",
   "execution_count": 29,
   "metadata": {
    "ExecuteTime": {
     "end_time": "2020-05-30T09:24:40.915239Z",
     "start_time": "2020-05-30T09:24:40.737714Z"
    }
   },
   "outputs": [
    {
     "name": "stdout",
     "output_type": "stream",
     "text": [
      "+---------------+-----------+-------------+------+\n",
      "|cpu_utilization|server_name|session_count|na_col|\n",
      "+---------------+-----------+-------------+------+\n",
      "|             85| 101 server|           80|     A|\n",
      "|             80| 101 server|           90|     A|\n",
      "|             85| 102 server|           40|     A|\n",
      "|             70| 103 server|           80|     A|\n",
      "|             60| 104 server|           80|     A|\n",
      "+---------------+-----------+-------------+------+\n",
      "\n"
     ]
    }
   ],
   "source": [
    "spark.sql('SELECT * FROM na_table WHERE na_col IS NOT NULL').show()"
   ]
  },
  {
   "cell_type": "markdown",
   "metadata": {},
   "source": [
    "## Exploratory Data Analysis"
   ]
  },
  {
   "cell_type": "code",
   "execution_count": 37,
   "metadata": {
    "ExecuteTime": {
     "end_time": "2020-05-30T09:57:38.677812Z",
     "start_time": "2020-05-30T09:57:36.820612Z"
    }
   },
   "outputs": [],
   "source": [
    "file_path_no_header = data_path + '/utilization.csv'\n",
    "df_util = spark.read.format(\"csv\").option(\"header\",\"false\").option(\"inferSchema\",\"true\").load(file_path_no_header)"
   ]
  },
  {
   "cell_type": "code",
   "execution_count": 38,
   "metadata": {
    "ExecuteTime": {
     "end_time": "2020-05-30T09:57:39.694022Z",
     "start_time": "2020-05-30T09:57:39.652282Z"
    }
   },
   "outputs": [],
   "source": [
    "df_util = df_util.withColumnRenamed(\"_c0\", \"event_datetime\").withColumnRenamed(\n",
    "    \"_c1\",\n",
    "    \"server_id\").withColumnRenamed(\"_c2\", \"cpu_utilization\").withColumnRenamed(\n",
    "        \"_c3\", \"free_memory\").withColumnRenamed('_c4', \"session_count\")"
   ]
  },
  {
   "cell_type": "code",
   "execution_count": 39,
   "metadata": {
    "ExecuteTime": {
     "end_time": "2020-05-30T09:57:47.089115Z",
     "start_time": "2020-05-30T09:57:46.882607Z"
    }
   },
   "outputs": [
    {
     "name": "stdout",
     "output_type": "stream",
     "text": [
      "+-------------------+---------+---------------+-----------+-------------+\n",
      "|     event_datetime|server_id|cpu_utilization|free_memory|session_count|\n",
      "+-------------------+---------+---------------+-----------+-------------+\n",
      "|03/05/2019 08:06:14|      100|           0.57|       0.51|           47|\n",
      "|03/05/2019 08:11:14|      100|           0.47|       0.62|           43|\n",
      "|03/05/2019 08:16:14|      100|           0.56|       0.57|           62|\n",
      "|03/05/2019 08:21:14|      100|           0.57|       0.56|           50|\n",
      "|03/05/2019 08:26:14|      100|           0.35|       0.46|           43|\n",
      "|03/05/2019 08:31:14|      100|           0.41|       0.58|           48|\n",
      "|03/05/2019 08:36:14|      100|           0.57|       0.35|           58|\n",
      "|03/05/2019 08:41:14|      100|           0.41|        0.4|           58|\n",
      "|03/05/2019 08:46:14|      100|           0.53|       0.35|           62|\n",
      "|03/05/2019 08:51:14|      100|           0.51|        0.6|           45|\n",
      "|03/05/2019 08:56:14|      100|           0.32|       0.37|           47|\n",
      "|03/05/2019 09:01:14|      100|           0.62|       0.59|           60|\n",
      "|03/05/2019 09:06:14|      100|           0.66|       0.72|           57|\n",
      "|03/05/2019 09:11:14|      100|           0.54|       0.54|           44|\n",
      "|03/05/2019 09:16:14|      100|           0.29|        0.4|           47|\n",
      "|03/05/2019 09:21:14|      100|           0.43|       0.68|           66|\n",
      "|03/05/2019 09:26:14|      100|           0.49|       0.66|           65|\n",
      "|03/05/2019 09:31:14|      100|           0.64|       0.55|           66|\n",
      "|03/05/2019 09:36:14|      100|           0.42|        0.6|           42|\n",
      "|03/05/2019 09:41:14|      100|           0.55|       0.59|           63|\n",
      "+-------------------+---------+---------------+-----------+-------------+\n",
      "only showing top 20 rows\n",
      "\n"
     ]
    }
   ],
   "source": [
    "df_util.show()"
   ]
  },
  {
   "cell_type": "code",
   "execution_count": 40,
   "metadata": {
    "ExecuteTime": {
     "end_time": "2020-05-30T09:58:12.412330Z",
     "start_time": "2020-05-30T09:58:12.394383Z"
    }
   },
   "outputs": [],
   "source": [
    "df_util.createOrReplaceTempView('utilization')"
   ]
  },
  {
   "cell_type": "code",
   "execution_count": 41,
   "metadata": {
    "ExecuteTime": {
     "end_time": "2020-05-30T09:58:21.791632Z",
     "start_time": "2020-05-30T09:58:21.310374Z"
    }
   },
   "outputs": [
    {
     "data": {
      "text/plain": [
       "500000"
      ]
     },
     "execution_count": 41,
     "metadata": {},
     "output_type": "execute_result"
    }
   ],
   "source": [
    "df_util.count()"
   ]
  },
  {
   "cell_type": "code",
   "execution_count": 43,
   "metadata": {
    "ExecuteTime": {
     "end_time": "2020-05-30T09:59:12.178594Z",
     "start_time": "2020-05-30T09:59:10.087973Z"
    }
   },
   "outputs": [
    {
     "name": "stdout",
     "output_type": "stream",
     "text": [
      "+-------+-------------------+------------------+-------------------+-------------------+------------------+\n",
      "|summary|     event_datetime|         server_id|    cpu_utilization|        free_memory|     session_count|\n",
      "+-------+-------------------+------------------+-------------------+-------------------+------------------+\n",
      "|  count|             500000|            500000|             500000|             500000|            500000|\n",
      "|   mean|               null|             124.5| 0.6205177399999874|  0.379128099999989|          69.59616|\n",
      "| stddev|               null|14.430884120553118|0.15875173872912948|0.15830931278376223|14.850676696352853|\n",
      "|    min|03/05/2019 08:06:14|               100|               0.22|                0.0|                32|\n",
      "|    max|04/09/2019 01:22:46|               149|                1.0|               0.78|               105|\n",
      "+-------+-------------------+------------------+-------------------+-------------------+------------------+\n",
      "\n"
     ]
    }
   ],
   "source": [
    "df_util.describe().show()"
   ]
  },
  {
   "cell_type": "code",
   "execution_count": 45,
   "metadata": {
    "ExecuteTime": {
     "end_time": "2020-05-30T10:01:31.892232Z",
     "start_time": "2020-05-30T10:01:31.314278Z"
    }
   },
   "outputs": [
    {
     "data": {
      "text/plain": [
       "-0.47047715730807027"
      ]
     },
     "execution_count": 45,
     "metadata": {},
     "output_type": "execute_result"
    }
   ],
   "source": [
    "df_util.stat.corr('cpu_utilization','free_memory')"
   ]
  },
  {
   "cell_type": "code",
   "execution_count": 46,
   "metadata": {
    "ExecuteTime": {
     "end_time": "2020-05-30T10:02:19.000285Z",
     "start_time": "2020-05-30T10:02:18.411777Z"
    }
   },
   "outputs": [
    {
     "data": {
      "text/plain": [
       "-0.5008320848876566"
      ]
     },
     "execution_count": 46,
     "metadata": {},
     "output_type": "execute_result"
    }
   ],
   "source": [
    "df_util.stat.corr('session_count','free_memory')"
   ]
  },
  {
   "cell_type": "code",
   "execution_count": 48,
   "metadata": {
    "ExecuteTime": {
     "end_time": "2020-05-30T10:03:16.517236Z",
     "start_time": "2020-05-30T10:03:15.741116Z"
    }
   },
   "outputs": [
    {
     "name": "stdout",
     "output_type": "stream",
     "text": [
      "+--------------------+-----------------------+\n",
      "| server_id_freqItems|session_count_freqItems|\n",
      "+--------------------+-----------------------+\n",
      "|[137, 146, 101, 1...|   [92, 101, 83, 104...|\n",
      "+--------------------+-----------------------+\n",
      "\n"
     ]
    }
   ],
   "source": [
    "df_util.stat.freqItems(('server_id','session_count')).show()"
   ]
  },
  {
   "cell_type": "code",
   "execution_count": 51,
   "metadata": {
    "ExecuteTime": {
     "end_time": "2020-05-30T10:04:59.982213Z",
     "start_time": "2020-05-30T10:04:59.976905Z"
    }
   },
   "outputs": [],
   "source": [
    "df_util_sample = df_util.sample(fraction=0.05, withReplacement=False)"
   ]
  },
  {
   "cell_type": "code",
   "execution_count": 52,
   "metadata": {
    "ExecuteTime": {
     "end_time": "2020-05-30T10:05:12.715580Z",
     "start_time": "2020-05-30T10:05:12.402443Z"
    }
   },
   "outputs": [
    {
     "data": {
      "text/plain": [
       "24988"
      ]
     },
     "execution_count": 52,
     "metadata": {},
     "output_type": "execute_result"
    }
   ],
   "source": [
    "df_util_sample.count()"
   ]
  },
  {
   "cell_type": "code",
   "execution_count": 53,
   "metadata": {
    "ExecuteTime": {
     "end_time": "2020-05-30T10:06:47.152994Z",
     "start_time": "2020-05-30T10:06:46.240221Z"
    }
   },
   "outputs": [
    {
     "name": "stdout",
     "output_type": "stream",
     "text": [
      "+--------------------+--------------------+----------------------------+\n",
      "|min(cpu_utilization)|max(cpu_utilization)|stddev_samp(cpu_utilization)|\n",
      "+--------------------+--------------------+----------------------------+\n",
      "|                0.22|                 1.0|         0.15875173872912948|\n",
      "+--------------------+--------------------+----------------------------+\n",
      "\n"
     ]
    }
   ],
   "source": [
    "spark.sql('SELECT min(cpu_utilization), max(cpu_utilization), stddev(cpu_utilization) FROM utilization').show()"
   ]
  },
  {
   "cell_type": "code",
   "execution_count": 55,
   "metadata": {
    "ExecuteTime": {
     "end_time": "2020-05-30T10:07:34.353999Z",
     "start_time": "2020-05-30T10:07:33.550004Z"
    }
   },
   "outputs": [
    {
     "name": "stdout",
     "output_type": "stream",
     "text": [
      "+---------+--------------------+--------------------+----------------------------+\n",
      "|server_id|min(cpu_utilization)|max(cpu_utilization)|stddev_samp(cpu_utilization)|\n",
      "+---------+--------------------+--------------------+----------------------------+\n",
      "|      148|                0.54|                0.94|         0.11451712518744131|\n",
      "|      137|                0.54|                0.94|         0.11526245077758812|\n",
      "|      133|                0.55|                0.95|         0.11534006553263144|\n",
      "|      108|                0.55|                0.95|         0.11563100171171926|\n",
      "|      101|                 0.6|                 1.0|         0.11651726263197697|\n",
      "|      115|                0.44|                0.84|         0.11569664615015006|\n",
      "|      126|                0.48|                0.88|         0.11542612970702051|\n",
      "|      103|                0.56|                0.96|         0.11617507884178278|\n",
      "|      128|                0.38|                0.78|          0.1153254132405078|\n",
      "|      122|                0.43|                0.83|         0.11563104329209034|\n",
      "|      111|                0.36|                0.76|         0.11530221569464506|\n",
      "|      140|                0.47|                0.87|         0.11539940805020545|\n",
      "|      132|                0.33|                0.73|          0.1145442656350766|\n",
      "|      146|                 0.5|                 0.9|         0.11488129439634706|\n",
      "|      142|                 0.5|                 0.9|         0.11593003726970044|\n",
      "|      139|                0.51|                0.91|         0.11519660023052102|\n",
      "|      120|                0.35|                0.75|         0.11586355920838642|\n",
      "|      117|                0.38|                0.78|         0.11534593941519553|\n",
      "|      112|                0.52|                0.92|         0.11528867845082576|\n",
      "|      127|                0.47|                0.87|         0.11577746913037888|\n",
      "+---------+--------------------+--------------------+----------------------------+\n",
      "only showing top 20 rows\n",
      "\n"
     ]
    }
   ],
   "source": [
    "spark.sql('SELECT server_id ,min(cpu_utilization), max(cpu_utilization), stddev(cpu_utilization) FROM utilization GROUP BY server_id').show()"
   ]
  },
  {
   "cell_type": "code",
   "execution_count": 56,
   "metadata": {
    "ExecuteTime": {
     "end_time": "2020-05-30T10:09:39.150281Z",
     "start_time": "2020-05-30T10:09:38.938104Z"
    }
   },
   "outputs": [
    {
     "name": "stdout",
     "output_type": "stream",
     "text": [
      "+---------+------+\n",
      "|server_id|bucket|\n",
      "+---------+------+\n",
      "|      100|     5|\n",
      "|      100|     4|\n",
      "|      100|     5|\n",
      "|      100|     5|\n",
      "|      100|     3|\n",
      "|      100|     4|\n",
      "|      100|     5|\n",
      "|      100|     4|\n",
      "|      100|     5|\n",
      "|      100|     5|\n",
      "|      100|     3|\n",
      "|      100|     6|\n",
      "|      100|     6|\n",
      "|      100|     5|\n",
      "|      100|     2|\n",
      "|      100|     4|\n",
      "|      100|     4|\n",
      "|      100|     6|\n",
      "|      100|     4|\n",
      "|      100|     5|\n",
      "+---------+------+\n",
      "only showing top 20 rows\n",
      "\n"
     ]
    }
   ],
   "source": [
    "spark.sql('SELECT server_id, FLOOR(cpu_utilization*100/10) bucket FROM utilization').show()"
   ]
  },
  {
   "cell_type": "code",
   "execution_count": 57,
   "metadata": {
    "ExecuteTime": {
     "end_time": "2020-05-30T10:10:20.269717Z",
     "start_time": "2020-05-30T10:10:19.147334Z"
    }
   },
   "outputs": [
    {
     "name": "stdout",
     "output_type": "stream",
     "text": [
      "+--------+------+\n",
      "|count(1)|bucket|\n",
      "+--------+------+\n",
      "|    8186|     2|\n",
      "|   37029|     3|\n",
      "|   68046|     4|\n",
      "|  104910|     5|\n",
      "|  116725|     6|\n",
      "|   88242|     7|\n",
      "|   56598|     8|\n",
      "|   20207|     9|\n",
      "|      57|    10|\n",
      "+--------+------+\n",
      "\n"
     ]
    }
   ],
   "source": [
    "spark.sql('SELECT count(*), FLOOR(cpu_utilization*100/10) bucket FROM utilization GROUP BY bucket ORDER BY  bucket').show()"
   ]
  },
  {
   "cell_type": "code",
   "execution_count": 58,
   "metadata": {
    "ExecuteTime": {
     "end_time": "2020-05-30T10:18:24.073899Z",
     "start_time": "2020-05-30T10:18:23.335455Z"
    }
   },
   "outputs": [
    {
     "name": "stdout",
     "output_type": "stream",
     "text": [
      "+---------+--------------------+--------------------+----------------------------+\n",
      "|server_id|min(cpu_utilization)|max(cpu_utilization)|stddev_samp(cpu_utilization)|\n",
      "+---------+--------------------+--------------------+----------------------------+\n",
      "|      148|                0.54|                0.94|         0.11451712518744131|\n",
      "|      137|                0.54|                0.94|         0.11526245077758812|\n",
      "|      133|                0.55|                0.95|         0.11534006553263144|\n",
      "|      108|                0.55|                0.95|         0.11563100171171926|\n",
      "|      101|                 0.6|                 1.0|         0.11651726263197697|\n",
      "|      115|                0.44|                0.84|         0.11569664615015006|\n",
      "|      126|                0.48|                0.88|         0.11542612970702051|\n",
      "|      103|                0.56|                0.96|         0.11617507884178278|\n",
      "|      128|                0.38|                0.78|          0.1153254132405078|\n",
      "|      122|                0.43|                0.83|         0.11563104329209034|\n",
      "|      111|                0.36|                0.76|         0.11530221569464506|\n",
      "|      140|                0.47|                0.87|         0.11539940805020545|\n",
      "|      132|                0.33|                0.73|          0.1145442656350766|\n",
      "|      146|                 0.5|                 0.9|         0.11488129439634706|\n",
      "|      142|                 0.5|                 0.9|         0.11593003726970044|\n",
      "|      139|                0.51|                0.91|         0.11519660023052102|\n",
      "|      120|                0.35|                0.75|         0.11586355920838642|\n",
      "|      117|                0.38|                0.78|         0.11534593941519553|\n",
      "|      112|                0.52|                0.92|         0.11528867845082576|\n",
      "|      127|                0.47|                0.87|         0.11577746913037888|\n",
      "+---------+--------------------+--------------------+----------------------------+\n",
      "only showing top 20 rows\n",
      "\n"
     ]
    }
   ],
   "source": [
    "spark.sql('SELECT server_id, min(cpu_utilization), max(cpu_utilization), stddev(cpu_utilization) FROM utilization GROUP BY server_id').show()"
   ]
  },
  {
   "cell_type": "code",
   "execution_count": 59,
   "metadata": {
    "ExecuteTime": {
     "end_time": "2020-05-30T10:20:32.498482Z",
     "start_time": "2020-05-30T10:20:32.448946Z"
    }
   },
   "outputs": [],
   "source": [
    "sql_window = spark.sql('SELECT event_datetime , server_id, cpu_utilization, avg(cpu_utilization) OVER (PARTITION BY  server_id) avg_server_util FROM utilization')"
   ]
  },
  {
   "cell_type": "code",
   "execution_count": 60,
   "metadata": {
    "ExecuteTime": {
     "end_time": "2020-05-30T10:20:42.537614Z",
     "start_time": "2020-05-30T10:20:41.519444Z"
    }
   },
   "outputs": [
    {
     "name": "stdout",
     "output_type": "stream",
     "text": [
      "+-------------------+---------+---------------+------------------+\n",
      "|     event_datetime|server_id|cpu_utilization|   avg_server_util|\n",
      "+-------------------+---------+---------------+------------------+\n",
      "|03/05/2019 08:07:41|      148|           0.85|0.7393840000000045|\n",
      "|03/05/2019 08:12:41|      148|           0.94|0.7393840000000045|\n",
      "|03/05/2019 08:17:41|      148|           0.89|0.7393840000000045|\n",
      "|03/05/2019 08:22:41|      148|           0.74|0.7393840000000045|\n",
      "|03/05/2019 08:27:41|      148|           0.63|0.7393840000000045|\n",
      "|03/05/2019 08:32:41|      148|           0.89|0.7393840000000045|\n",
      "|03/05/2019 08:37:41|      148|           0.77|0.7393840000000045|\n",
      "|03/05/2019 08:42:41|      148|           0.59|0.7393840000000045|\n",
      "|03/05/2019 08:47:41|      148|           0.77|0.7393840000000045|\n",
      "|03/05/2019 08:52:41|      148|           0.71|0.7393840000000045|\n",
      "|03/05/2019 08:57:41|      148|           0.85|0.7393840000000045|\n",
      "|03/05/2019 09:02:41|      148|           0.73|0.7393840000000045|\n",
      "|03/05/2019 09:07:41|      148|           0.89|0.7393840000000045|\n",
      "|03/05/2019 09:12:41|      148|           0.56|0.7393840000000045|\n",
      "|03/05/2019 09:17:41|      148|           0.59|0.7393840000000045|\n",
      "|03/05/2019 09:22:41|      148|           0.78|0.7393840000000045|\n",
      "|03/05/2019 09:27:41|      148|           0.72|0.7393840000000045|\n",
      "|03/05/2019 09:32:41|      148|            0.8|0.7393840000000045|\n",
      "|03/05/2019 09:37:41|      148|           0.55|0.7393840000000045|\n",
      "|03/05/2019 09:42:41|      148|           0.91|0.7393840000000045|\n",
      "+-------------------+---------+---------------+------------------+\n",
      "only showing top 20 rows\n",
      "\n"
     ]
    }
   ],
   "source": [
    "sql_window.show()"
   ]
  },
  {
   "cell_type": "code",
   "execution_count": 61,
   "metadata": {
    "ExecuteTime": {
     "end_time": "2020-05-30T10:24:07.124877Z",
     "start_time": "2020-05-30T10:24:06.392760Z"
    }
   },
   "outputs": [
    {
     "name": "stdout",
     "output_type": "stream",
     "text": [
      "+-------------------+---------+---------------+------------------+--------------------+\n",
      "|     event_datetime|server_id|cpu_utilization|   avg_server_util|   delta_server_util|\n",
      "+-------------------+---------+---------------+------------------+--------------------+\n",
      "|03/05/2019 08:07:41|      148|           0.85|0.7393840000000045|  0.1106159999999955|\n",
      "|03/05/2019 08:12:41|      148|           0.94|0.7393840000000045| 0.20061599999999546|\n",
      "|03/05/2019 08:17:41|      148|           0.89|0.7393840000000045| 0.15061599999999553|\n",
      "|03/05/2019 08:22:41|      148|           0.74|0.7393840000000045| 6.15999999995509E-4|\n",
      "|03/05/2019 08:27:41|      148|           0.63|0.7393840000000045|-0.10938400000000448|\n",
      "|03/05/2019 08:32:41|      148|           0.89|0.7393840000000045| 0.15061599999999553|\n",
      "|03/05/2019 08:37:41|      148|           0.77|0.7393840000000045|0.030615999999995536|\n",
      "|03/05/2019 08:42:41|      148|           0.59|0.7393840000000045| -0.1493840000000045|\n",
      "|03/05/2019 08:47:41|      148|           0.77|0.7393840000000045|0.030615999999995536|\n",
      "|03/05/2019 08:52:41|      148|           0.71|0.7393840000000045|-0.02938400000000...|\n",
      "|03/05/2019 08:57:41|      148|           0.85|0.7393840000000045|  0.1106159999999955|\n",
      "|03/05/2019 09:02:41|      148|           0.73|0.7393840000000045| -0.0093840000000045|\n",
      "|03/05/2019 09:07:41|      148|           0.89|0.7393840000000045| 0.15061599999999553|\n",
      "|03/05/2019 09:12:41|      148|           0.56|0.7393840000000045|-0.17938400000000443|\n",
      "|03/05/2019 09:17:41|      148|           0.59|0.7393840000000045| -0.1493840000000045|\n",
      "|03/05/2019 09:22:41|      148|           0.78|0.7393840000000045|0.040615999999995545|\n",
      "|03/05/2019 09:27:41|      148|           0.72|0.7393840000000045|-0.01938400000000451|\n",
      "|03/05/2019 09:32:41|      148|            0.8|0.7393840000000045| 0.06061599999999556|\n",
      "|03/05/2019 09:37:41|      148|           0.55|0.7393840000000045|-0.18938400000000444|\n",
      "|03/05/2019 09:42:41|      148|           0.91|0.7393840000000045| 0.17061599999999555|\n",
      "+-------------------+---------+---------------+------------------+--------------------+\n",
      "only showing top 20 rows\n",
      "\n"
     ]
    }
   ],
   "source": [
    "sql_window2 = spark.sql(\n",
    "    'SELECT event_datetime , server_id, cpu_utilization, avg(cpu_utilization) OVER (PARTITION BY  server_id) avg_server_util, cpu_utilization - avg(cpu_utilization) OVER (PARTITION BY  server_id) delta_server_util FROM utilization'\n",
    ")\n",
    "sql_window2.show()"
   ]
  },
  {
   "cell_type": "code",
   "execution_count": 67,
   "metadata": {
    "ExecuteTime": {
     "end_time": "2020-05-30T10:39:59.340077Z",
     "start_time": "2020-05-30T10:39:58.796305Z"
    }
   },
   "outputs": [
    {
     "name": "stdout",
     "output_type": "stream",
     "text": [
      "+-------------------+---------+---------------+------------------+\n",
      "|     event_datetime|server_id|cpu_utilization|   avg_server_util|\n",
      "+-------------------+---------+---------------+------------------+\n",
      "|03/05/2019 08:07:41|      148|           0.85|             0.895|\n",
      "|03/05/2019 08:12:41|      148|           0.94|0.8933333333333334|\n",
      "|03/05/2019 08:17:41|      148|           0.89|0.8566666666666668|\n",
      "|03/05/2019 08:22:41|      148|           0.74|0.7533333333333333|\n",
      "|03/05/2019 08:27:41|      148|           0.63|0.7533333333333334|\n",
      "|03/05/2019 08:32:41|      148|           0.89|0.7633333333333333|\n",
      "|03/05/2019 08:37:41|      148|           0.77|              0.75|\n",
      "|03/05/2019 08:42:41|      148|           0.59|              0.71|\n",
      "|03/05/2019 08:47:41|      148|           0.77|              0.69|\n",
      "|03/05/2019 08:52:41|      148|           0.71|0.7766666666666667|\n",
      "|03/05/2019 08:57:41|      148|           0.85|0.7633333333333333|\n",
      "|03/05/2019 09:02:41|      148|           0.73|0.8233333333333334|\n",
      "|03/05/2019 09:07:41|      148|           0.89|0.7266666666666667|\n",
      "|03/05/2019 09:12:41|      148|           0.56|              0.68|\n",
      "|03/05/2019 09:17:41|      148|           0.59|0.6433333333333333|\n",
      "|03/05/2019 09:22:41|      148|           0.78|0.6966666666666667|\n",
      "|03/05/2019 09:27:41|      148|           0.72|0.7666666666666666|\n",
      "|03/05/2019 09:32:41|      148|            0.8|0.6900000000000001|\n",
      "|03/05/2019 09:37:41|      148|           0.55|0.7533333333333334|\n",
      "|03/05/2019 09:42:41|      148|           0.91|0.6866666666666666|\n",
      "+-------------------+---------+---------------+------------------+\n",
      "only showing top 20 rows\n",
      "\n"
     ]
    }
   ],
   "source": [
    "sql_window3 = spark.sql('SELECT event_datetime , server_id , cpu_utilization, avg(cpu_utilization) OVER (PARTITION BY server_id ORDER BY event_datetime ROWS BETWEEN 1 PRECEDING AND 1 FOLLOWING) avg_server_util FROM utilization')\n",
    "sql_window3.show()"
   ]
  },
  {
   "cell_type": "markdown",
   "metadata": {},
   "source": [
    "## Clustering"
   ]
  },
  {
   "cell_type": "code",
   "execution_count": 68,
   "metadata": {
    "ExecuteTime": {
     "end_time": "2020-05-30T10:45:42.096895Z",
     "start_time": "2020-05-30T10:45:42.092174Z"
    }
   },
   "outputs": [],
   "source": [
    "from pyspark.sql import SparkSession\n",
    "from pyspark.ml.linalg import Vectors\n",
    "from pyspark.ml.feature import VectorAssembler\n",
    "from pyspark.ml.clustering import KMeans"
   ]
  },
  {
   "cell_type": "code",
   "execution_count": 69,
   "metadata": {
    "ExecuteTime": {
     "end_time": "2020-05-30T10:46:01.710140Z",
     "start_time": "2020-05-30T10:46:01.704162Z"
    }
   },
   "outputs": [],
   "source": [
    "Spark = SparkSession.builder.getOrCreate()"
   ]
  },
  {
   "cell_type": "code",
   "execution_count": 70,
   "metadata": {
    "ExecuteTime": {
     "end_time": "2020-05-30T10:46:28.683285Z",
     "start_time": "2020-05-30T10:46:27.314723Z"
    }
   },
   "outputs": [],
   "source": [
    "file_path_no_header = data_path + '/utilization.csv'\n",
    "df_util = spark.read.format(\"csv\").option(\"header\",\"false\").option(\"inferSchema\",\"true\").load(file_path_no_header)"
   ]
  },
  {
   "cell_type": "code",
   "execution_count": 72,
   "metadata": {
    "ExecuteTime": {
     "end_time": "2020-05-30T10:47:11.844202Z",
     "start_time": "2020-05-30T10:47:11.825239Z"
    }
   },
   "outputs": [],
   "source": [
    "df_util = df_util.withColumnRenamed(\"_c0\", \"event_datetime\").withColumnRenamed(\n",
    "    \"_c1\",\n",
    "    \"server_id\").withColumnRenamed(\"_c2\", \"cpu_utilization\").withColumnRenamed(\n",
    "        \"_c3\", \"free_memory\").withColumnRenamed('_c4', \"session_count\")"
   ]
  },
  {
   "cell_type": "code",
   "execution_count": 73,
   "metadata": {
    "ExecuteTime": {
     "end_time": "2020-05-30T10:47:12.373212Z",
     "start_time": "2020-05-30T10:47:12.312986Z"
    }
   },
   "outputs": [
    {
     "name": "stdout",
     "output_type": "stream",
     "text": [
      "+-------------------+---------+---------------+-----------+-------------+\n",
      "|     event_datetime|server_id|cpu_utilization|free_memory|session_count|\n",
      "+-------------------+---------+---------------+-----------+-------------+\n",
      "|03/05/2019 08:06:14|      100|           0.57|       0.51|           47|\n",
      "|03/05/2019 08:11:14|      100|           0.47|       0.62|           43|\n",
      "|03/05/2019 08:16:14|      100|           0.56|       0.57|           62|\n",
      "|03/05/2019 08:21:14|      100|           0.57|       0.56|           50|\n",
      "|03/05/2019 08:26:14|      100|           0.35|       0.46|           43|\n",
      "|03/05/2019 08:31:14|      100|           0.41|       0.58|           48|\n",
      "|03/05/2019 08:36:14|      100|           0.57|       0.35|           58|\n",
      "|03/05/2019 08:41:14|      100|           0.41|        0.4|           58|\n",
      "|03/05/2019 08:46:14|      100|           0.53|       0.35|           62|\n",
      "|03/05/2019 08:51:14|      100|           0.51|        0.6|           45|\n",
      "|03/05/2019 08:56:14|      100|           0.32|       0.37|           47|\n",
      "|03/05/2019 09:01:14|      100|           0.62|       0.59|           60|\n",
      "|03/05/2019 09:06:14|      100|           0.66|       0.72|           57|\n",
      "|03/05/2019 09:11:14|      100|           0.54|       0.54|           44|\n",
      "|03/05/2019 09:16:14|      100|           0.29|        0.4|           47|\n",
      "|03/05/2019 09:21:14|      100|           0.43|       0.68|           66|\n",
      "|03/05/2019 09:26:14|      100|           0.49|       0.66|           65|\n",
      "|03/05/2019 09:31:14|      100|           0.64|       0.55|           66|\n",
      "|03/05/2019 09:36:14|      100|           0.42|        0.6|           42|\n",
      "|03/05/2019 09:41:14|      100|           0.55|       0.59|           63|\n",
      "+-------------------+---------+---------------+-----------+-------------+\n",
      "only showing top 20 rows\n",
      "\n"
     ]
    }
   ],
   "source": [
    "df_util.show()"
   ]
  },
  {
   "cell_type": "code",
   "execution_count": 74,
   "metadata": {
    "ExecuteTime": {
     "end_time": "2020-05-30T10:53:37.304787Z",
     "start_time": "2020-05-30T10:53:37.263659Z"
    }
   },
   "outputs": [],
   "source": [
    "vectorAssembler = VectorAssembler(inputCols=['cpu_utilization','free_memory','session_count'],outputCol='features')"
   ]
  },
  {
   "cell_type": "code",
   "execution_count": 75,
   "metadata": {
    "ExecuteTime": {
     "end_time": "2020-05-30T10:54:05.619371Z",
     "start_time": "2020-05-30T10:54:05.434087Z"
    }
   },
   "outputs": [],
   "source": [
    "vcluster_df = vectorAssembler.transform(df_util)"
   ]
  },
  {
   "cell_type": "code",
   "execution_count": 76,
   "metadata": {
    "ExecuteTime": {
     "end_time": "2020-05-30T10:55:39.060335Z",
     "start_time": "2020-05-30T10:55:38.933809Z"
    }
   },
   "outputs": [
    {
     "name": "stdout",
     "output_type": "stream",
     "text": [
      "+-------------------+---------+---------------+-----------+-------------+----------------+\n",
      "|     event_datetime|server_id|cpu_utilization|free_memory|session_count|        features|\n",
      "+-------------------+---------+---------------+-----------+-------------+----------------+\n",
      "|03/05/2019 08:06:14|      100|           0.57|       0.51|           47|[0.57,0.51,47.0]|\n",
      "|03/05/2019 08:11:14|      100|           0.47|       0.62|           43|[0.47,0.62,43.0]|\n",
      "|03/05/2019 08:16:14|      100|           0.56|       0.57|           62|[0.56,0.57,62.0]|\n",
      "|03/05/2019 08:21:14|      100|           0.57|       0.56|           50|[0.57,0.56,50.0]|\n",
      "|03/05/2019 08:26:14|      100|           0.35|       0.46|           43|[0.35,0.46,43.0]|\n",
      "|03/05/2019 08:31:14|      100|           0.41|       0.58|           48|[0.41,0.58,48.0]|\n",
      "|03/05/2019 08:36:14|      100|           0.57|       0.35|           58|[0.57,0.35,58.0]|\n",
      "|03/05/2019 08:41:14|      100|           0.41|        0.4|           58| [0.41,0.4,58.0]|\n",
      "|03/05/2019 08:46:14|      100|           0.53|       0.35|           62|[0.53,0.35,62.0]|\n",
      "|03/05/2019 08:51:14|      100|           0.51|        0.6|           45| [0.51,0.6,45.0]|\n",
      "|03/05/2019 08:56:14|      100|           0.32|       0.37|           47|[0.32,0.37,47.0]|\n",
      "|03/05/2019 09:01:14|      100|           0.62|       0.59|           60|[0.62,0.59,60.0]|\n",
      "|03/05/2019 09:06:14|      100|           0.66|       0.72|           57|[0.66,0.72,57.0]|\n",
      "|03/05/2019 09:11:14|      100|           0.54|       0.54|           44|[0.54,0.54,44.0]|\n",
      "|03/05/2019 09:16:14|      100|           0.29|        0.4|           47| [0.29,0.4,47.0]|\n",
      "|03/05/2019 09:21:14|      100|           0.43|       0.68|           66|[0.43,0.68,66.0]|\n",
      "|03/05/2019 09:26:14|      100|           0.49|       0.66|           65|[0.49,0.66,65.0]|\n",
      "|03/05/2019 09:31:14|      100|           0.64|       0.55|           66|[0.64,0.55,66.0]|\n",
      "|03/05/2019 09:36:14|      100|           0.42|        0.6|           42| [0.42,0.6,42.0]|\n",
      "|03/05/2019 09:41:14|      100|           0.55|       0.59|           63|[0.55,0.59,63.0]|\n",
      "+-------------------+---------+---------------+-----------+-------------+----------------+\n",
      "only showing top 20 rows\n",
      "\n"
     ]
    }
   ],
   "source": [
    "vcluster_df.show()"
   ]
  },
  {
   "cell_type": "code",
   "execution_count": 77,
   "metadata": {
    "ExecuteTime": {
     "end_time": "2020-05-30T10:57:56.302599Z",
     "start_time": "2020-05-30T10:57:56.255842Z"
    }
   },
   "outputs": [],
   "source": [
    "kmeans = KMeans().setK(3)"
   ]
  },
  {
   "cell_type": "code",
   "execution_count": 78,
   "metadata": {
    "ExecuteTime": {
     "end_time": "2020-05-30T10:58:18.425791Z",
     "start_time": "2020-05-30T10:58:18.422055Z"
    }
   },
   "outputs": [],
   "source": [
    "kmeans = kmeans.setSeed(1)"
   ]
  },
  {
   "cell_type": "code",
   "execution_count": 79,
   "metadata": {
    "ExecuteTime": {
     "end_time": "2020-05-30T10:59:10.155108Z",
     "start_time": "2020-05-30T10:59:04.290722Z"
    }
   },
   "outputs": [],
   "source": [
    "kmodel = kmeans.fit(vcluster_df)"
   ]
  },
  {
   "cell_type": "code",
   "execution_count": 80,
   "metadata": {
    "ExecuteTime": {
     "end_time": "2020-05-30T10:59:16.158202Z",
     "start_time": "2020-05-30T10:59:16.127787Z"
    }
   },
   "outputs": [
    {
     "data": {
      "text/plain": [
       "[array([ 0.52047775,  0.47836303, 51.79927162]),\n",
       " array([ 0.71931575,  0.28104316, 88.23965784]),\n",
       " array([ 0.62881549,  0.37094643, 70.43030159])]"
      ]
     },
     "execution_count": 80,
     "metadata": {},
     "output_type": "execute_result"
    }
   ],
   "source": [
    "kmodel.clusterCenters()"
   ]
  },
  {
   "cell_type": "markdown",
   "metadata": {},
   "source": [
    "## Linear Regression"
   ]
  },
  {
   "cell_type": "code",
   "execution_count": 81,
   "metadata": {
    "ExecuteTime": {
     "end_time": "2020-05-30T11:01:58.481963Z",
     "start_time": "2020-05-30T11:01:58.470984Z"
    }
   },
   "outputs": [],
   "source": [
    "vectorAssembler  = VectorAssembler(inputCols=['cpu_utilization'],outputCol='features')"
   ]
  },
  {
   "cell_type": "code",
   "execution_count": 82,
   "metadata": {
    "ExecuteTime": {
     "end_time": "2020-05-30T11:02:21.547938Z",
     "start_time": "2020-05-30T11:02:21.471948Z"
    }
   },
   "outputs": [],
   "source": [
    "df_vutil = vectorAssembler.transform(df_util)"
   ]
  },
  {
   "cell_type": "code",
   "execution_count": 83,
   "metadata": {
    "ExecuteTime": {
     "end_time": "2020-05-30T11:02:29.712243Z",
     "start_time": "2020-05-30T11:02:29.589309Z"
    }
   },
   "outputs": [
    {
     "name": "stdout",
     "output_type": "stream",
     "text": [
      "+-------------------+---------+---------------+-----------+-------------+--------+\n",
      "|     event_datetime|server_id|cpu_utilization|free_memory|session_count|features|\n",
      "+-------------------+---------+---------------+-----------+-------------+--------+\n",
      "|03/05/2019 08:06:14|      100|           0.57|       0.51|           47|  [0.57]|\n",
      "|03/05/2019 08:11:14|      100|           0.47|       0.62|           43|  [0.47]|\n",
      "|03/05/2019 08:16:14|      100|           0.56|       0.57|           62|  [0.56]|\n",
      "|03/05/2019 08:21:14|      100|           0.57|       0.56|           50|  [0.57]|\n",
      "|03/05/2019 08:26:14|      100|           0.35|       0.46|           43|  [0.35]|\n",
      "|03/05/2019 08:31:14|      100|           0.41|       0.58|           48|  [0.41]|\n",
      "|03/05/2019 08:36:14|      100|           0.57|       0.35|           58|  [0.57]|\n",
      "|03/05/2019 08:41:14|      100|           0.41|        0.4|           58|  [0.41]|\n",
      "|03/05/2019 08:46:14|      100|           0.53|       0.35|           62|  [0.53]|\n",
      "|03/05/2019 08:51:14|      100|           0.51|        0.6|           45|  [0.51]|\n",
      "|03/05/2019 08:56:14|      100|           0.32|       0.37|           47|  [0.32]|\n",
      "|03/05/2019 09:01:14|      100|           0.62|       0.59|           60|  [0.62]|\n",
      "|03/05/2019 09:06:14|      100|           0.66|       0.72|           57|  [0.66]|\n",
      "|03/05/2019 09:11:14|      100|           0.54|       0.54|           44|  [0.54]|\n",
      "|03/05/2019 09:16:14|      100|           0.29|        0.4|           47|  [0.29]|\n",
      "|03/05/2019 09:21:14|      100|           0.43|       0.68|           66|  [0.43]|\n",
      "|03/05/2019 09:26:14|      100|           0.49|       0.66|           65|  [0.49]|\n",
      "|03/05/2019 09:31:14|      100|           0.64|       0.55|           66|  [0.64]|\n",
      "|03/05/2019 09:36:14|      100|           0.42|        0.6|           42|  [0.42]|\n",
      "|03/05/2019 09:41:14|      100|           0.55|       0.59|           63|  [0.55]|\n",
      "+-------------------+---------+---------------+-----------+-------------+--------+\n",
      "only showing top 20 rows\n",
      "\n"
     ]
    }
   ],
   "source": [
    "df_vutil.show()"
   ]
  },
  {
   "cell_type": "code",
   "execution_count": 84,
   "metadata": {
    "ExecuteTime": {
     "end_time": "2020-05-30T11:05:55.577810Z",
     "start_time": "2020-05-30T11:05:55.540665Z"
    }
   },
   "outputs": [],
   "source": [
    "from pyspark.ml.regression import LinearRegression\n",
    "lr = LinearRegression(featuresCol='features',labelCol='session_count')"
   ]
  },
  {
   "cell_type": "code",
   "execution_count": 86,
   "metadata": {
    "ExecuteTime": {
     "end_time": "2020-05-30T11:06:27.193839Z",
     "start_time": "2020-05-30T11:06:24.159642Z"
    }
   },
   "outputs": [],
   "source": [
    "lrModel = lr.fit(df_vutil)"
   ]
  },
  {
   "cell_type": "code",
   "execution_count": 87,
   "metadata": {
    "ExecuteTime": {
     "end_time": "2020-05-30T11:06:42.806354Z",
     "start_time": "2020-05-30T11:06:42.791861Z"
    }
   },
   "outputs": [
    {
     "data": {
      "text/plain": [
       "(DenseVector([47.024]), 40.41695103550495)"
      ]
     },
     "execution_count": 87,
     "metadata": {},
     "output_type": "execute_result"
    }
   ],
   "source": [
    "lrModel.coefficients , lrModel.intercept"
   ]
  },
  {
   "cell_type": "code",
   "execution_count": 88,
   "metadata": {
    "ExecuteTime": {
     "end_time": "2020-05-30T11:07:44.034652Z",
     "start_time": "2020-05-30T11:07:44.024593Z"
    }
   },
   "outputs": [
    {
     "data": {
      "text/plain": [
       "12.837990225931527"
      ]
     },
     "execution_count": 88,
     "metadata": {},
     "output_type": "execute_result"
    }
   ],
   "source": [
    "lrModel.summary.rootMeanSquaredError"
   ]
  },
  {
   "cell_type": "code",
   "execution_count": null,
   "metadata": {},
   "outputs": [],
   "source": []
  }
 ],
 "metadata": {
  "kernelspec": {
   "display_name": "Python 3.7.4 64-bit",
   "language": "python",
   "name": "python37464bitd354516f517147279a113529c8fe5e5f"
  },
  "language_info": {
   "codemirror_mode": {
    "name": "ipython",
    "version": 3
   },
   "file_extension": ".py",
   "mimetype": "text/x-python",
   "name": "python",
   "nbconvert_exporter": "python",
   "pygments_lexer": "ipython3",
   "version": "3.7.7"
  },
  "toc": {
   "base_numbering": 1,
   "nav_menu": {},
   "number_sections": true,
   "sideBar": true,
   "skip_h1_title": false,
   "title_cell": "Table of Contents",
   "title_sidebar": "Contents",
   "toc_cell": false,
   "toc_position": {},
   "toc_section_display": true,
   "toc_window_display": false
  },
  "varInspector": {
   "cols": {
    "lenName": 16,
    "lenType": 16,
    "lenVar": 40
   },
   "kernels_config": {
    "python": {
     "delete_cmd_postfix": "",
     "delete_cmd_prefix": "del ",
     "library": "var_list.py",
     "varRefreshCmd": "print(var_dic_list())"
    },
    "r": {
     "delete_cmd_postfix": ") ",
     "delete_cmd_prefix": "rm(",
     "library": "var_list.r",
     "varRefreshCmd": "cat(var_dic_list()) "
    }
   },
   "types_to_exclude": [
    "module",
    "function",
    "builtin_function_or_method",
    "instance",
    "_Feature"
   ],
   "window_display": false
  }
 },
 "nbformat": 4,
 "nbformat_minor": 2
}
